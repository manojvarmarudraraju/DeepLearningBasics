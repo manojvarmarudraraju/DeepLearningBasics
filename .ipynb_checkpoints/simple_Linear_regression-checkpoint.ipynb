{
  "cells": [
    {
      "metadata": {
        "trusted": true
      },
      "cell_type": "code",
      "source": "%matplotlib inline\n#import matplotlib.pyplot as plt\nimport pandas as pd\nimport numpy as np\n#reading data from excel sheet\ndata=pd.read_csv('headbrain.csv')\ndata.head()\n#\nX=data['Head Size(cm^3)'].values\nY=data['newbrain'].values\n\nmean_X=np.mean(X)\nmean_Y=np.mean(Y)\nn=np.size(X)\nprint(n)\nnume=0\ndeno=0\nfor i in range(n):\n    nume=nume+((X[i]-mean_X)*(Y[i]-mean_Y))\n    deno=deno+((X[i]-mean_X)*(X[i]-mean_X))\nbeta1=nume/deno\nbeta0=mean_Y-(beta1*mean_X)\n\nerror=0\nfor i in range(n):\n    yn=beta0 + (beta1*X[i])\n    error=error+((Y[i]-yn)*(Y[i]-yn))\nerror=error/n\nerror=np.sqrt(error)\nprint(error)\n\n\nmax_x = np.max(X) + 100\nmin_x = np.min(X) - 100\n\n# Calculating line values x and y\nx = np.linspace(min_x, max_x, 1000) # Returns number spaces evenly w.r.t interval\ny = beta0 + beta1 * x\n\n# Ploting Line\nplt.plot(x, y, color='#58b970', label='Regression Line')\n# Ploting Scatter Points\nplt.scatter(X, Y, c='#ef5423', label='Scatter Plot')\n\nplt.xlabel('Head Size in cm3')\nplt.ylabel('Brain Weight in grams')\nplt.legend()\nplt.show()",
      "execution_count": null,
      "outputs": []
    },
    {
      "metadata": {
        "trusted": true
      },
      "cell_type": "code",
      "source": "%matplotlib inline\n#import matplotlib.pyplot as plt\nimport pandas as pd\nimport numpy as np\n#reading data from excel sheet\ndata=pd.read_csv('headbrain.csv')\ndata.head()\n#\nX=data['newhead'].values\nY=data['Brain Weight(grams)'].values\n\nmean_X=np.mean(X)\nmean_Y=np.mean(Y)\nn=np.size(X)\nprint(n)\nnume=0\ndeno=0\nfor i in range(n):\n    nume=nume+((X[i]-mean_X)*(Y[i]-mean_Y))\n    deno=deno+((X[i]-mean_X)*(X[i]-mean_X))\nbeta1=nume/deno\nbeta0=mean_Y-(beta1*mean_X)\n\nerror=0\nfor i in range(n):\n    yn=beta0 + (beta1*X[i])\n    error=error+((Y[i]-yn)*(Y[i]-yn))\nerror=error/n\nerror=np.sqrt(error)\nprint(error)\n\n\nmax_x = np.max(X) + 100\nmin_x = np.min(X) - 100\n\n# Calculating line values x and y\nx = np.linspace(min_x, max_x, 1000) # Returns number spaces evenly w.r.t interval\ny = beta0 + beta1 * x\n\n# Ploting Line\nplt.plot(x, y, color='#58b970', label='Regression Line')\n# Ploting Scatter Points\nplt.scatter(X, Y, c='#ef5423', label='Scatter Plot')\n\nplt.xlabel('Head Size in cm3')\nplt.ylabel('Brain Weight in grams')\nplt.legend()\nplt.show()",
      "execution_count": null,
      "outputs": []
    },
    {
      "metadata": {
        "trusted": true
      },
      "cell_type": "code",
      "source": "%matplotlib inline\n#import matplotlib.pyplot as plt\nimport pandas as pd\nimport numpy as np\n#reading data from excel sheet\ndata=pd.read_csv('headbrain.csv')\ndata.head()\n#\nX=data['Head Size(cm^3)'].values\nY=data['Brain Weight(grams)'].values\n\nmean_X=np.mean(X)\nmean_Y=np.mean(Y)\nn=np.size(X)\nprint(n)\nnume=0\ndeno=0\nfor i in range(n):\n    nume=nume+((X[i]-mean_X)*(Y[i]-mean_Y))\n    deno=deno+((X[i]-mean_X)*(X[i]-mean_X))\nbeta1=nume/deno\nbeta0=mean_Y-(beta1*mean_X)\n\nerror=0\nfor i in range(n):\n    yn=beta0 + (beta1*X[i])\n    error=error+((Y[i]-yn)*(Y[i]-yn))\nerror=error/n\nerror=np.sqrt(error)\nprint(error)\n\n\nmax_x = np.max(X) + 100\nmin_x = np.min(X) - 100\n\n# Calculating line values x and y\nx = np.linspace(min_x, max_x, 1000) # Returns number spaces evenly w.r.t interval\ny = beta0 + beta1 * x\n\n# Ploting Line\nplt.plot(x, y, color='#58b970', label='Regression Line')\n# Ploting Scatter Points\nplt.scatter(X, Y, c='#ef5423', label='Scatter Plot')\n\nplt.xlabel('Head Size in cm3')\nplt.ylabel('Brain Weight in grams')\nplt.legend()\nplt.show()",
      "execution_count": null,
      "outputs": []
    },
    {
      "metadata": {
        "trusted": true
      },
      "cell_type": "code",
      "source": "",
      "execution_count": null,
      "outputs": []
    }
  ],
  "metadata": {
    "kernelspec": {
      "name": "python3",
      "display_name": "Python 3",
      "language": "python"
    },
    "language_info": {
      "mimetype": "text/x-python",
      "nbconvert_exporter": "python",
      "name": "python",
      "pygments_lexer": "ipython3",
      "version": "3.5.4",
      "file_extension": ".py",
      "codemirror_mode": {
        "version": 3,
        "name": "ipython"
      }
    }
  },
  "nbformat": 4,
  "nbformat_minor": 2
}