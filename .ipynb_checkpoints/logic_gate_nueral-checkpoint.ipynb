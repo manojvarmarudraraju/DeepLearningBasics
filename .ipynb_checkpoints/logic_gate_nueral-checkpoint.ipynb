{
  "cells": [
    {
      "metadata": {
        "trusted": true
      },
      "cell_type": "code",
      "source": "import numpy as np\n\ndef unit_step_function(x):\n    if x>1.5:\n        return 1\n    return 0\nweights=np.ones(2)\n\ndef calc(input_length,in_data):\n    weighted_input=weights*in_data\n    weighted_sum=weighted_input.sum()\n    return unit_step_function(weighted_sum)\n\nfor x in [np.array([0,0]),np.array([0,1]),np.array([1,0]),np.array([1,1])]:\n    p=calc(2,np.array(x))\n    print(p)\ndef sigmoid(s):\n    return 1/(1+np.exp(-s))\nweights1=np.array([20,20])\ndef calc_sigmoid(input_length,in_data):\n    weighted_input=weights1*in_data\n    weighted_sum=weighted_input.sum()-30\n    return sigmoid(weighted_sum)\nprint(\"Sigmoid Function\")\nfor x in [np.array([0,0]),np.array([0,1]),np.array([1,0]),np.array([1,1])]:\n    p=calc_sigmoid(2,np.array(x))\n    if(p<0.001):\n        print(0)\n    else:\n        print(1)",
      "execution_count": 4,
      "outputs": [
        {
          "output_type": "stream",
          "text": "0\n0\n0\n1\n0\n0\n0\n1\n",
          "name": "stdout"
        }
      ]
    },
    {
      "metadata": {
        "trusted": true
      },
      "cell_type": "code",
      "source": "",
      "execution_count": null,
      "outputs": []
    }
  ],
  "metadata": {
    "kernelspec": {
      "name": "python3",
      "display_name": "Python 3",
      "language": "python"
    },
    "language_info": {
      "mimetype": "text/x-python",
      "nbconvert_exporter": "python",
      "name": "python",
      "pygments_lexer": "ipython3",
      "version": "3.5.4",
      "file_extension": ".py",
      "codemirror_mode": {
        "version": 3,
        "name": "ipython"
      }
    }
  },
  "nbformat": 4,
  "nbformat_minor": 2
}