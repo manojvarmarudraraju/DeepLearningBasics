{
  "cells": [
    {
      "metadata": {
        "trusted": true
      },
      "cell_type": "code",
      "source": "a=[1 2 3];\na",
      "execution_count": 1,
      "outputs": [
        {
          "output_type": "error",
          "ename": "SyntaxError",
          "evalue": "invalid syntax (<ipython-input-1-f5a9f3a9bb0c>, line 1)",
          "traceback": [
            "\u001b[0;36m  File \u001b[0;32m\"<ipython-input-1-f5a9f3a9bb0c>\"\u001b[0;36m, line \u001b[0;32m1\u001b[0m\n\u001b[0;31m    a=[1 2 3];\u001b[0m\n\u001b[0m         ^\u001b[0m\n\u001b[0;31mSyntaxError\u001b[0m\u001b[0;31m:\u001b[0m invalid syntax\n"
          ]
        }
      ]
    },
    {
      "metadata": {
        "trusted": true
      },
      "cell_type": "code",
      "source": "from array import *\na=[1,2,3]\nprint(a[0])",
      "execution_count": 2,
      "outputs": [
        {
          "output_type": "stream",
          "text": "1\n",
          "name": "stdout"
        }
      ]
    },
    {
      "metadata": {
        "trusted": true
      },
      "cell_type": "code",
      "source": "from array import *\na=[[1],[2],[3]]\nprint(a[0][1])",
      "execution_count": 3,
      "outputs": [
        {
          "output_type": "error",
          "ename": "IndexError",
          "evalue": "list index out of range",
          "traceback": [
            "\u001b[0;31m---------------------------------------------------------------------------\u001b[0m",
            "\u001b[0;31mIndexError\u001b[0m                                Traceback (most recent call last)",
            "\u001b[0;32m<ipython-input-3-25a96bfe590e>\u001b[0m in \u001b[0;36m<module>\u001b[0;34m()\u001b[0m\n\u001b[1;32m      1\u001b[0m \u001b[0;32mfrom\u001b[0m \u001b[0marray\u001b[0m \u001b[0;32mimport\u001b[0m \u001b[0;34m*\u001b[0m\u001b[0;34m\u001b[0m\u001b[0m\n\u001b[1;32m      2\u001b[0m \u001b[0ma\u001b[0m\u001b[0;34m=\u001b[0m\u001b[0;34m[\u001b[0m\u001b[0;34m[\u001b[0m\u001b[0;36m1\u001b[0m\u001b[0;34m]\u001b[0m\u001b[0;34m,\u001b[0m\u001b[0;34m[\u001b[0m\u001b[0;36m2\u001b[0m\u001b[0;34m]\u001b[0m\u001b[0;34m,\u001b[0m\u001b[0;34m[\u001b[0m\u001b[0;36m3\u001b[0m\u001b[0;34m]\u001b[0m\u001b[0;34m]\u001b[0m\u001b[0;34m\u001b[0m\u001b[0m\n\u001b[0;32m----> 3\u001b[0;31m \u001b[0mprint\u001b[0m\u001b[0;34m(\u001b[0m\u001b[0ma\u001b[0m\u001b[0;34m[\u001b[0m\u001b[0;36m0\u001b[0m\u001b[0;34m]\u001b[0m\u001b[0;34m[\u001b[0m\u001b[0;36m1\u001b[0m\u001b[0;34m]\u001b[0m\u001b[0;34m)\u001b[0m\u001b[0;34m\u001b[0m\u001b[0m\n\u001b[0m",
            "\u001b[0;31mIndexError\u001b[0m: list index out of range"
          ]
        }
      ]
    },
    {
      "metadata": {
        "trusted": true
      },
      "cell_type": "code",
      "source": "from array import *\nimport numpy as np\nT = np.array([[11, 12, 5, 2], [15, 6,10], [10, 8, 12, 5], [12,15,8,6]])\nfor r in T:\n    for c in r:\n        print(c,end = \" \")\n    print()\nprint(T.ndim)\nprint()\nprint(T.shape)\nprint()",
      "execution_count": 6,
      "outputs": [
        {
          "output_type": "error",
          "ename": "SyntaxError",
          "evalue": "invalid syntax (<ipython-input-6-c28593d46df1>, line 6)",
          "traceback": [
            "\u001b[0;36m  File \u001b[0;32m\"<ipython-input-6-c28593d46df1>\"\u001b[0;36m, line \u001b[0;32m6\u001b[0m\n\u001b[0;31m    print(c,end=\" \")\u001b[0m\n\u001b[0m               ^\u001b[0m\n\u001b[0;31mSyntaxError\u001b[0m\u001b[0;31m:\u001b[0m invalid syntax\n"
          ]
        }
      ]
    },
    {
      "metadata": {
        "trusted": true
      },
      "cell_type": "code",
      "source": "print(T.itemsize)",
      "execution_count": null,
      "outputs": []
    },
    {
      "metadata": {
        "trusted": true
      },
      "cell_type": "code",
      "source": "T.itemsize\n",
      "execution_count": 1,
      "outputs": [
        {
          "output_type": "error",
          "ename": "NameError",
          "evalue": "name 'T' is not defined",
          "traceback": [
            "\u001b[0;31m\u001b[0m",
            "\u001b[0;31mNameError\u001b[0mTraceback (most recent call last)",
            "\u001b[0;32m<ipython-input-1-6e0c0d9fe303>\u001b[0m in \u001b[0;36m<module>\u001b[0;34m()\u001b[0m\n\u001b[0;32m----> 1\u001b[0;31m \u001b[0mT\u001b[0m\u001b[0;34m.\u001b[0m\u001b[0mitemsize\u001b[0m\u001b[0;34m\u001b[0m\u001b[0m\n\u001b[0m",
            "\u001b[0;31mNameError\u001b[0m: name 'T' is not defined"
          ]
        }
      ]
    },
    {
      "metadata": {
        "trusted": true
      },
      "cell_type": "code",
      "source": "print(T.itemsize)",
      "execution_count": 15,
      "outputs": [
        {
          "output_type": "stream",
          "text": "8\n",
          "name": "stdout"
        }
      ]
    },
    {
      "metadata": {
        "trusted": true
      },
      "cell_type": "code",
      "source": "from array import *\nimport numpy as np\nT = np.array([[11, 12, 5, 2], [15, 6,10,10], [10, 8, 12, 5], [12,15,8,6]])\nprint(T[1][2])\nW=np.array(T[1:3][1:3])\nprint(W)\nnp.zeros((3,2))\nnp.ones((3,2))\nc=np.full((3,2),7)\nprint(c)\nnp.eye((3))\nnp.random.random((2,2))\nnp.arange(1,5)# 5 not included in numpy func\nnp.arange(1,15,2)# step is 2\nc=np.full((2,3),7)\nc.reshape(2,3)\nc.min()\n\nc.max()\nc.sum()\nc.sum(axis=0) # column sum\nc.sum(axis=1) # row sum\nnp.sqrt(c)\nw=np.full((3,3),4)\ny=np.linalg.inv(T)# inverse matrix\nprint(y)",
      "execution_count": 31,
      "outputs": [
        {
          "output_type": "stream",
          "text": "10\n[[10  8 12  5]]\n[[ 7.  7.]\n [ 7.  7.]\n [ 7.  7.]]\n[[ 0.20226021  0.0831643  -0.03651116 -0.17560127]\n [-0.04636337 -0.06490872 -0.02028398  0.14053897]\n [-0.0391191  -0.05476673  0.1703854  -0.03767024]\n [-0.2364532   0.06896552 -0.10344828  0.21674877]]\n",
          "name": "stdout"
        }
      ]
    },
    {
      "metadata": {
        "trusted": true
      },
      "cell_type": "code",
      "source": "# Eigen values finding\n\nfrom numpy import array\nfrom numpy.linalg import eig\nA=array([[2.5,-2.5],[-2.5,2.5]])\nvalues,vectors=eig(A)\nprint(values)\nprint(vectors)",
      "execution_count": 36,
      "outputs": [
        {
          "output_type": "error",
          "ename": "TypeError",
          "evalue": "only length-1 arrays can be converted to Python scalars",
          "traceback": [
            "\u001b[0;31m\u001b[0m",
            "\u001b[0;31mTypeError\u001b[0mTraceback (most recent call last)",
            "\u001b[0;32m<ipython-input-36-627659cc6352>\u001b[0m in \u001b[0;36m<module>\u001b[0;34m()\u001b[0m\n\u001b[1;32m      5\u001b[0m \u001b[0mA\u001b[0m\u001b[0;34m=\u001b[0m\u001b[0marray\u001b[0m\u001b[0;34m(\u001b[0m\u001b[0;34m[\u001b[0m\u001b[0;34m[\u001b[0m\u001b[0;36m2.5\u001b[0m\u001b[0;34m,\u001b[0m\u001b[0;34m-\u001b[0m\u001b[0;36m2.5\u001b[0m\u001b[0;34m]\u001b[0m\u001b[0;34m,\u001b[0m\u001b[0;34m[\u001b[0m\u001b[0;34m-\u001b[0m\u001b[0;36m2.5\u001b[0m\u001b[0;34m,\u001b[0m\u001b[0;36m2.5\u001b[0m\u001b[0;34m]\u001b[0m\u001b[0;34m]\u001b[0m\u001b[0;34m)\u001b[0m\u001b[0;34m\u001b[0m\u001b[0m\n\u001b[1;32m      6\u001b[0m \u001b[0mvalues\u001b[0m\u001b[0;34m,\u001b[0m\u001b[0mvectors\u001b[0m\u001b[0;34m=\u001b[0m\u001b[0meig\u001b[0m\u001b[0;34m(\u001b[0m\u001b[0mA\u001b[0m\u001b[0;34m)\u001b[0m\u001b[0;34m\u001b[0m\u001b[0m\n\u001b[0;32m----> 7\u001b[0;31m \u001b[0;32mprint\u001b[0m\u001b[0;34m(\u001b[0m\u001b[0mint\u001b[0m\u001b[0;34m(\u001b[0m\u001b[0mvalues\u001b[0m\u001b[0;34m)\u001b[0m\u001b[0;34m)\u001b[0m\u001b[0;34m\u001b[0m\u001b[0m\n\u001b[0m\u001b[1;32m      8\u001b[0m \u001b[0;32mprint\u001b[0m\u001b[0;34m(\u001b[0m\u001b[0mvectors\u001b[0m\u001b[0;34m)\u001b[0m\u001b[0;34m\u001b[0m\u001b[0m\n",
            "\u001b[0;31mTypeError\u001b[0m: only length-1 arrays can be converted to Python scalars"
          ]
        }
      ]
    },
    {
      "metadata": {
        "trusted": true
      },
      "cell_type": "code",
      "source": "#Principal Component Analysis\nimport numpy as np\nimport pandas as pd\nfrom numpy.linalg import eig\ndf=pd.DataFrame(columns=['calory','breakfast','lunch','dinner','exercise','body_shape'])\ndf.loc[0]=[1200,1,0,0,2,'Skinny']\ndf.loc[1]=[2800,1,1,1,1,'Normal']\ndf.loc[2]=[3500,2,2,1,0,'Fat']\ndf.loc[3]=[1400,0,1,0,3,'Skinny']\ndf.loc[4]=[5000,2,2,2,0,'Fat']\ndf.loc[5]=[1300,0,0,1,2,'Skinny']\ndf.loc[6]=[3000,1,0,1,1,'Normal']\ndf.loc[7]=[4000,2,2,2,0,'Fat']\ndf.loc[8]=[2600,0,2,0,0,'Normal']\ndf.loc[9]=[3000,1,2,1,1,'Fat']\ndf.head(10)\nX=df[['calory','breakfast','lunch','dinner','exercise']]#features\nY=df[['body_shape']]#labels\nY.head(10)\n\n\n\n#rescaling feature vectors to all have the same scale\n# Strandadization is to normalize to data to lower values\nfrom sklearn.preprocessing import StandardScaler\nx_std=StandardScaler().fit_transform(X)\nx_std\n\n\n# Covariance Matrix of Features\n\nfeatures=x_std.T # Applying transposing\ncovariance_matrix=np.cov(features)\n\n#Eigen values and vectors for covariance matrix\nvalues,vectors=eig(covariance_matrix)\nprint(values)\nprint(vectors)\n\n\n#Projection data points on selected vectors\nprojected_X=x_std.dot(vectors.T[0])\nprojected_X\n\nresult=pd.Data(projected_X,columns=['PC1'])\nresult['y-axis']=0.0\nresult['label']=Y\n\n\nimport matplotlib.pyplot as plt\nimport seaborn as sns\n%matplotlib online\n\n\nsns.lmplot('PC1','y-axis',data=result,fit_reg=False\n            scatter_kws={\"s\":50},#marker size\n            hue=\"label\" #colour)",
      "execution_count": 3,
      "outputs": [
        {
          "output_type": "stream",
          "text": "[4.0657343  0.8387565  0.07629538 0.27758568 0.2971837 ]\n[[-0.508005   -0.0169937  -0.84711404  0.11637853  0.10244985]\n [-0.44660335 -0.36890361  0.12808055 -0.63112016 -0.49973822]\n [-0.38377913  0.70804084  0.20681005 -0.40305226  0.38232213]\n [-0.42845209 -0.53194699  0.3694462   0.22228235  0.58954327]\n [ 0.46002038 -0.2816592  -0.29450345 -0.61341895  0.49601841]]\n",
          "name": "stdout"
        },
        {
          "output_type": "execute_result",
          "execution_count": 3,
          "data": {
            "text/plain": "array([ 2.22600943,  0.0181432 , -1.76296611,  2.73542407, -3.02711544,\n        2.14702579,  0.37142473, -2.59239883,  0.39347815, -0.50902498])"
          },
          "metadata": {}
        }
      ]
    },
    {
      "metadata": {
        "trusted": true
      },
      "cell_type": "code",
      "source": "",
      "execution_count": null,
      "outputs": []
    }
  ],
  "metadata": {
    "kernelspec": {
      "name": "python3",
      "display_name": "Python 3",
      "language": "python"
    },
    "language_info": {
      "mimetype": "text/x-python",
      "nbconvert_exporter": "python",
      "name": "python",
      "pygments_lexer": "ipython3",
      "version": "3.5.4",
      "file_extension": ".py",
      "codemirror_mode": {
        "version": 3,
        "name": "ipython"
      }
    }
  },
  "nbformat": 4,
  "nbformat_minor": 2
}