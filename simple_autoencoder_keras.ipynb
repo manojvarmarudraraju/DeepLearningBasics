{
  "nbformat": 4,
  "nbformat_minor": 0,
  "metadata": {
    "colab": {
      "name": "simple_autoencoder_keras.ipynb",
      "version": "0.3.2",
      "provenance": [],
      "collapsed_sections": []
    },
    "kernelspec": {
      "name": "python3",
      "display_name": "Python 3"
    }
  },
  "cells": [
    {
      "metadata": {
        "id": "Iv3uC4Wj5ydm",
        "colab_type": "code",
        "outputId": "16aab839-6586-4b66-c2c7-18fde7bcd93a",
        "colab": {
          "base_uri": "https://localhost:8080/",
          "height": 34
        }
      },
      "cell_type": "code",
      "source": [
        "from keras.datasets import mnist\n",
        "from keras.layers import Input, Dense\n",
        "from keras.models import Model"
      ],
      "execution_count": 0,
      "outputs": [
        {
          "output_type": "stream",
          "text": [
            "Using TensorFlow backend.\n"
          ],
          "name": "stderr"
        }
      ]
    },
    {
      "metadata": {
        "id": "f57nvz2052YZ",
        "colab_type": "code",
        "colab": {}
      },
      "cell_type": "code",
      "source": [
        "import numpy as np\n",
        "import pandas as pd\n",
        "import matplotlib.pyplot as plt\n",
        "\n",
        "%matplotlib inline"
      ],
      "execution_count": 0,
      "outputs": []
    },
    {
      "metadata": {
        "id": "94k5pqwm56dg",
        "colab_type": "code",
        "outputId": "b7eb346b-2ab8-4dfe-a8b0-47b785971e77",
        "colab": {
          "base_uri": "https://localhost:8080/",
          "height": 51
        }
      },
      "cell_type": "code",
      "source": [
        "(X_train, _), (X_test, _) = mnist.load_data()"
      ],
      "execution_count": 0,
      "outputs": [
        {
          "output_type": "stream",
          "text": [
            "Downloading data from https://s3.amazonaws.com/img-datasets/mnist.npz\n",
            "11493376/11490434 [==============================] - 1s 0us/step\n"
          ],
          "name": "stdout"
        }
      ]
    },
    {
      "metadata": {
        "id": "dVSM3vRt58g_",
        "colab_type": "code",
        "outputId": "2536f3b8-3d66-40c0-9fcb-8cf8b4efb30f",
        "colab": {
          "base_uri": "https://localhost:8080/",
          "height": 51
        }
      },
      "cell_type": "code",
      "source": [
        "X_train = X_train.astype('float32')/255\n",
        "X_test = X_test.astype('float32')/255\n",
        "\n",
        "X_train = X_train.reshape(len(X_train), np.prod(X_train.shape[1:]))\n",
        "X_test = X_test.reshape(len(X_test), np.prod(X_test.shape[1:]))\n",
        "print(X_train.shape)\n",
        "print(X_test.shape)"
      ],
      "execution_count": 0,
      "outputs": [
        {
          "output_type": "stream",
          "text": [
            "(60000, 784)\n",
            "(10000, 784)\n"
          ],
          "name": "stdout"
        }
      ]
    },
    {
      "metadata": {
        "id": "AKkADeKP5-_k",
        "colab_type": "code",
        "colab": {}
      },
      "cell_type": "code",
      "source": [
        "#Encoded image will have a compression of 784/32=24.5 %\n",
        "\n",
        "#We need to take the input image of dimension 784 and convert it to keras tensors.\n",
        "input_img= Input(shape=(784,))"
      ],
      "execution_count": 0,
      "outputs": []
    },
    {
      "metadata": {
        "id": "owBBFq136Bzk",
        "colab_type": "code",
        "outputId": "2919dd5b-6e38-41e1-9c6e-d20823cd8e76",
        "colab": {
          "base_uri": "https://localhost:8080/",
          "height": 88
        }
      },
      "cell_type": "code",
      "source": [
        "#Input image will be Encoded to 32 units and the activation will be relu and the input is the tensors of input image\n",
        "encoded = Dense(units=32, activation='relu')(input_img)"
      ],
      "execution_count": 0,
      "outputs": [
        {
          "output_type": "stream",
          "text": [
            "WARNING:tensorflow:From /usr/local/lib/python3.6/dist-packages/tensorflow/python/framework/op_def_library.py:263: colocate_with (from tensorflow.python.framework.ops) is deprecated and will be removed in a future version.\n",
            "Instructions for updating:\n",
            "Colocations handled automatically by placer.\n"
          ],
          "name": "stdout"
        }
      ]
    },
    {
      "metadata": {
        "id": "gtY_jq8f6EQp",
        "colab_type": "code",
        "colab": {}
      },
      "cell_type": "code",
      "source": [
        "#Decoder will have 784 units as it needs to reconstruct the input image back to its original dimension.\n",
        "\n",
        "#As decoded is the output layer of the autoencoder we will use sigmoid activation function. encoded image will be the input to the decoder\n",
        "\n",
        "decoded = Dense(units=784, activation='sigmoid')(encoded)"
      ],
      "execution_count": 0,
      "outputs": []
    },
    {
      "metadata": {
        "id": "GUUN6mRn6Hyo",
        "colab_type": "code",
        "colab": {}
      },
      "cell_type": "code",
      "source": [
        "#We now create the autoencoder with input as the input image and output as the decoder\n",
        "autoencoder=Model(input_img, decoded)"
      ],
      "execution_count": 0,
      "outputs": []
    },
    {
      "metadata": {
        "id": "bQNqIJDS6KqL",
        "colab_type": "code",
        "outputId": "156591b4-b5d6-464e-89dc-8b8dd2b7e9c6",
        "colab": {
          "base_uri": "https://localhost:8080/",
          "height": 238
        }
      },
      "cell_type": "code",
      "source": [
        "autoencoder.summary()"
      ],
      "execution_count": 0,
      "outputs": [
        {
          "output_type": "stream",
          "text": [
            "_________________________________________________________________\n",
            "Layer (type)                 Output Shape              Param #   \n",
            "=================================================================\n",
            "input_1 (InputLayer)         (None, 784)               0         \n",
            "_________________________________________________________________\n",
            "dense_1 (Dense)              (None, 32)                25120     \n",
            "_________________________________________________________________\n",
            "dense_2 (Dense)              (None, 784)               25872     \n",
            "=================================================================\n",
            "Total params: 50,992\n",
            "Trainable params: 50,992\n",
            "Non-trainable params: 0\n",
            "_________________________________________________________________\n"
          ],
          "name": "stdout"
        }
      ]
    },
    {
      "metadata": {
        "id": "5_mwd5DT6uZV",
        "colab_type": "code",
        "colab": {}
      },
      "cell_type": "code",
      "source": [
        "# We can also extract the encoder which takes input as input images and the output is the encoded image.\n",
        "encoder = Model(input_img, encoded)"
      ],
      "execution_count": 0,
      "outputs": []
    },
    {
      "metadata": {
        "id": "P_Xpk3B_62Gv",
        "colab_type": "code",
        "outputId": "eaf99d3f-86b1-41ba-8b3f-08affa626205",
        "colab": {
          "base_uri": "https://localhost:8080/",
          "height": 204
        }
      },
      "cell_type": "code",
      "source": [
        "encoder.summary()"
      ],
      "execution_count": 0,
      "outputs": [
        {
          "output_type": "stream",
          "text": [
            "_________________________________________________________________\n",
            "Layer (type)                 Output Shape              Param #   \n",
            "=================================================================\n",
            "input_1 (InputLayer)         (None, 784)               0         \n",
            "_________________________________________________________________\n",
            "dense_1 (Dense)              (None, 32)                25120     \n",
            "=================================================================\n",
            "Total params: 25,120\n",
            "Trainable params: 25,120\n",
            "Non-trainable params: 0\n",
            "_________________________________________________________________\n"
          ],
          "name": "stdout"
        }
      ]
    },
    {
      "metadata": {
        "id": "213oUSOY67F1",
        "colab_type": "code",
        "colab": {}
      },
      "cell_type": "code",
      "source": [
        "# We now compile the autoencoder model with adadelta optimizer. As pixels have a value of 0 0r 1 we use binary_crossentropy as the loss function and the metrics uses for the performance of the model is accuracy\n",
        "autoencoder.compile(optimizer='adadelta', loss='binary_crossentropy', metrics=['accuracy'])"
      ],
      "execution_count": 0,
      "outputs": []
    },
    {
      "metadata": {
        "id": "N3ls9Ub-7Bw5",
        "colab_type": "code",
        "outputId": "c6ff743b-22a9-4281-9d7b-38fabe237605",
        "colab": {
          "base_uri": "https://localhost:8080/",
          "height": 292
        }
      },
      "cell_type": "code",
      "source": [
        "# We now train the autoencoder using the training data with 50 epochs and batch size of 256. We also shuffle the training data\n",
        "\n",
        "autoencoder.fit(X_train, X_train,\n",
        "                epochs=5,\n",
        "                batch_size=256,\n",
        "                shuffle=True,\n",
        "                validation_data=(X_test, X_test))"
      ],
      "execution_count": 0,
      "outputs": [
        {
          "output_type": "stream",
          "text": [
            "WARNING:tensorflow:From /usr/local/lib/python3.6/dist-packages/tensorflow/python/ops/math_ops.py:3066: to_int32 (from tensorflow.python.ops.math_ops) is deprecated and will be removed in a future version.\n",
            "Instructions for updating:\n",
            "Use tf.cast instead.\n",
            "Train on 60000 samples, validate on 10000 samples\n",
            "Epoch 1/5\n",
            "60000/60000 [==============================] - 6s 93us/step - loss: 0.3632 - acc: 0.7469 - val_loss: 0.2712 - val_acc: 0.7940\n",
            "Epoch 2/5\n",
            "60000/60000 [==============================] - 4s 75us/step - loss: 0.2643 - acc: 0.7972 - val_loss: 0.2535 - val_acc: 0.7964\n",
            "Epoch 3/5\n",
            "60000/60000 [==============================] - 4s 74us/step - loss: 0.2434 - acc: 0.7971 - val_loss: 0.2308 - val_acc: 0.7955\n",
            "Epoch 4/5\n",
            "60000/60000 [==============================] - 4s 75us/step - loss: 0.2232 - acc: 0.7970 - val_loss: 0.2132 - val_acc: 0.7972\n",
            "Epoch 5/5\n",
            "60000/60000 [==============================] - 4s 75us/step - loss: 0.2081 - acc: 0.7981 - val_loss: 0.2004 - val_acc: 0.7986\n"
          ],
          "name": "stdout"
        },
        {
          "output_type": "execute_result",
          "data": {
            "text/plain": [
              "<keras.callbacks.History at 0x7ffb2df89588>"
            ]
          },
          "metadata": {
            "tags": []
          },
          "execution_count": 13
        }
      ]
    },
    {
      "metadata": {
        "id": "3oLTf5R17Hmc",
        "colab_type": "code",
        "colab": {}
      },
      "cell_type": "code",
      "source": [
        "# Predicting the test set. We want to view the encoded images as well as the reconstructed images so we fit the test data on both autoencoder as well as encoder\n",
        "\n",
        "encoded_imgs = encoder.predict(X_test)\n",
        "predicted = autoencoder.predict(X_test)"
      ],
      "execution_count": 0,
      "outputs": []
    },
    {
      "metadata": {
        "id": "qlsH6pou7Ohh",
        "colab_type": "code",
        "outputId": "dcea985f-3ea8-4e86-97c3-123352c2b318",
        "colab": {
          "base_uri": "https://localhost:8080/",
          "height": 248
        }
      },
      "cell_type": "code",
      "source": [
        "# Let’s plot the original input, encoded images and the reconstructed images using matplotlib\n",
        "\n",
        "plt.figure(figsize=(40, 4))\n",
        "for i in range(10):\n",
        "    # display original\n",
        "    ax = plt.subplot(3, 20, i + 1)\n",
        "    plt.imshow(X_test[i].reshape(28, 28))\n",
        "    plt.gray()\n",
        "    ax.get_xaxis().set_visible(False)\n",
        "    ax.get_yaxis().set_visible(False)\n",
        "    \n",
        "    # display encoded image\n",
        "    ax = plt.subplot(3, 20, i + 1 + 20)\n",
        "    plt.imshow(encoded_imgs[i].reshape(8,4))\n",
        "    plt.gray()\n",
        "    ax.get_xaxis().set_visible(False)\n",
        "    ax.get_yaxis().set_visible(False)\n",
        "     # display reconstruction\n",
        "    ax = plt.subplot(3, 20, 2*20 +i+ 1)\n",
        "    plt.imshow(predicted[i].reshape(28, 28))\n",
        "    plt.gray()\n",
        "    ax.get_xaxis().set_visible(False)\n",
        "    ax.get_yaxis().set_visible(False)\n",
        "plt.show()"
      ],
      "execution_count": 0,
      "outputs": [
        {
          "output_type": "display_data",
          "data": {
            "image/png": "[encoded data removed]",
            "text/plain": [
              "<Figure size 2880x288 with 30 Axes>"
            ]
          },
          "metadata": {
            "tags": []
          }
        }
      ]
    },
    {
      "metadata": {
        "id": "Qw4IetoG7eWn",
        "colab_type": "code",
        "outputId": "ef4023f3-7b9b-41da-9ecb-3ab4f7ba272b",
        "colab": {
          "base_uri": "https://localhost:8080/",
          "height": 1751
        }
      },
      "cell_type": "code",
      "source": [
        "# We now train the autoencoder using the training data with 50 epochs and batch size of 256. We also shuffle the training data\n",
        "\n",
        "autoencoder.fit(X_train, X_train,\n",
        "                epochs=50,\n",
        "                batch_size=256,\n",
        "                shuffle=True,\n",
        "                validation_data=(X_test, X_test))"
      ],
      "execution_count": 0,
      "outputs": [
        {
          "output_type": "stream",
          "text": [
            "Train on 60000 samples, validate on 10000 samples\n",
            "Epoch 1/50\n",
            "60000/60000 [==============================] - 4s 75us/step - loss: 0.1970 - acc: 0.7994 - val_loss: 0.1908 - val_acc: 0.7995\n",
            "Epoch 2/50\n",
            "60000/60000 [==============================] - 4s 74us/step - loss: 0.1883 - acc: 0.8007 - val_loss: 0.1830 - val_acc: 0.8008\n",
            "Epoch 3/50\n",
            "60000/60000 [==============================] - 4s 75us/step - loss: 0.1812 - acc: 0.8019 - val_loss: 0.1765 - val_acc: 0.8020\n",
            "Epoch 4/50\n",
            "60000/60000 [==============================] - 5s 75us/step - loss: 0.1752 - acc: 0.8029 - val_loss: 0.1709 - val_acc: 0.8026\n",
            "Epoch 5/50\n",
            "60000/60000 [==============================] - 4s 75us/step - loss: 0.1700 - acc: 0.8038 - val_loss: 0.1662 - val_acc: 0.8037\n",
            "Epoch 6/50\n",
            "60000/60000 [==============================] - 4s 72us/step - loss: 0.1653 - acc: 0.8046 - val_loss: 0.1618 - val_acc: 0.8045\n",
            "Epoch 7/50\n",
            "60000/60000 [==============================] - 4s 73us/step - loss: 0.1611 - acc: 0.8053 - val_loss: 0.1576 - val_acc: 0.8049\n",
            "Epoch 8/50\n",
            "60000/60000 [==============================] - 4s 74us/step - loss: 0.1572 - acc: 0.8060 - val_loss: 0.1540 - val_acc: 0.8060\n",
            "Epoch 9/50\n",
            "60000/60000 [==============================] - 4s 75us/step - loss: 0.1535 - acc: 0.8066 - val_loss: 0.1504 - val_acc: 0.8066\n",
            "Epoch 10/50\n",
            "60000/60000 [==============================] - 4s 73us/step - loss: 0.1501 - acc: 0.8072 - val_loss: 0.1471 - val_acc: 0.8071\n",
            "Epoch 11/50\n",
            "60000/60000 [==============================] - 4s 74us/step - loss: 0.1470 - acc: 0.8077 - val_loss: 0.1439 - val_acc: 0.8071\n",
            "Epoch 12/50\n",
            "60000/60000 [==============================] - 4s 74us/step - loss: 0.1440 - acc: 0.8082 - val_loss: 0.1412 - val_acc: 0.8080\n",
            "Epoch 13/50\n",
            "60000/60000 [==============================] - 4s 74us/step - loss: 0.1413 - acc: 0.8086 - val_loss: 0.1383 - val_acc: 0.8081\n",
            "Epoch 14/50\n",
            "60000/60000 [==============================] - 4s 75us/step - loss: 0.1387 - acc: 0.8090 - val_loss: 0.1359 - val_acc: 0.8086\n",
            "Epoch 15/50\n",
            "60000/60000 [==============================] - 4s 74us/step - loss: 0.1362 - acc: 0.8094 - val_loss: 0.1335 - val_acc: 0.8089\n",
            "Epoch 16/50\n",
            "60000/60000 [==============================] - 4s 74us/step - loss: 0.1339 - acc: 0.8098 - val_loss: 0.1313 - val_acc: 0.8094\n",
            "Epoch 17/50\n",
            "60000/60000 [==============================] - 4s 74us/step - loss: 0.1317 - acc: 0.8101 - val_loss: 0.1290 - val_acc: 0.8095\n",
            "Epoch 18/50\n",
            "60000/60000 [==============================] - 4s 74us/step - loss: 0.1296 - acc: 0.8104 - val_loss: 0.1270 - val_acc: 0.8098\n",
            "Epoch 19/50\n",
            "60000/60000 [==============================] - 4s 73us/step - loss: 0.1276 - acc: 0.8107 - val_loss: 0.1251 - val_acc: 0.8101\n",
            "Epoch 20/50\n",
            "60000/60000 [==============================] - 4s 72us/step - loss: 0.1258 - acc: 0.8110 - val_loss: 0.1233 - val_acc: 0.8104\n",
            "Epoch 21/50\n",
            "60000/60000 [==============================] - 4s 72us/step - loss: 0.1240 - acc: 0.8112 - val_loss: 0.1215 - val_acc: 0.8106\n",
            "Epoch 22/50\n",
            "60000/60000 [==============================] - 4s 73us/step - loss: 0.1224 - acc: 0.8115 - val_loss: 0.1200 - val_acc: 0.8108\n",
            "Epoch 23/50\n",
            "60000/60000 [==============================] - 4s 73us/step - loss: 0.1208 - acc: 0.8117 - val_loss: 0.1185 - val_acc: 0.8110\n",
            "Epoch 24/50\n",
            "60000/60000 [==============================] - 4s 72us/step - loss: 0.1194 - acc: 0.8118 - val_loss: 0.1171 - val_acc: 0.8111\n",
            "Epoch 25/50\n",
            "60000/60000 [==============================] - 4s 73us/step - loss: 0.1180 - acc: 0.8120 - val_loss: 0.1158 - val_acc: 0.8113\n",
            "Epoch 26/50\n",
            "60000/60000 [==============================] - 4s 72us/step - loss: 0.1168 - acc: 0.8122 - val_loss: 0.1146 - val_acc: 0.8115\n",
            "Epoch 27/50\n",
            "60000/60000 [==============================] - 4s 73us/step - loss: 0.1156 - acc: 0.8123 - val_loss: 0.1135 - val_acc: 0.8114\n",
            "Epoch 28/50\n",
            "60000/60000 [==============================] - 4s 73us/step - loss: 0.1146 - acc: 0.8124 - val_loss: 0.1124 - val_acc: 0.8116\n",
            "Epoch 29/50\n",
            "60000/60000 [==============================] - 4s 73us/step - loss: 0.1136 - acc: 0.8125 - val_loss: 0.1115 - val_acc: 0.8117\n",
            "Epoch 30/50\n",
            "60000/60000 [==============================] - 4s 74us/step - loss: 0.1126 - acc: 0.8126 - val_loss: 0.1106 - val_acc: 0.8118\n",
            "Epoch 31/50\n",
            "60000/60000 [==============================] - 4s 74us/step - loss: 0.1118 - acc: 0.8127 - val_loss: 0.1098 - val_acc: 0.8119\n",
            "Epoch 32/50\n",
            "60000/60000 [==============================] - 4s 73us/step - loss: 0.1110 - acc: 0.8128 - val_loss: 0.1090 - val_acc: 0.8120\n",
            "Epoch 33/50\n",
            "60000/60000 [==============================] - 4s 73us/step - loss: 0.1103 - acc: 0.8129 - val_loss: 0.1083 - val_acc: 0.8120\n",
            "Epoch 34/50\n",
            "60000/60000 [==============================] - 4s 73us/step - loss: 0.1096 - acc: 0.8129 - val_loss: 0.1077 - val_acc: 0.8121\n",
            "Epoch 35/50\n",
            "60000/60000 [==============================] - 4s 74us/step - loss: 0.1089 - acc: 0.8130 - val_loss: 0.1070 - val_acc: 0.8121\n",
            "Epoch 36/50\n",
            "60000/60000 [==============================] - 5s 75us/step - loss: 0.1084 - acc: 0.8130 - val_loss: 0.1065 - val_acc: 0.8122\n",
            "Epoch 37/50\n",
            "60000/60000 [==============================] - 4s 74us/step - loss: 0.1078 - acc: 0.8131 - val_loss: 0.1059 - val_acc: 0.8123\n",
            "Epoch 38/50\n",
            "60000/60000 [==============================] - 4s 74us/step - loss: 0.1073 - acc: 0.8131 - val_loss: 0.1054 - val_acc: 0.8123\n",
            "Epoch 39/50\n",
            "60000/60000 [==============================] - 4s 74us/step - loss: 0.1068 - acc: 0.8132 - val_loss: 0.1050 - val_acc: 0.8123\n",
            "Epoch 40/50\n",
            "60000/60000 [==============================] - 4s 73us/step - loss: 0.1064 - acc: 0.8132 - val_loss: 0.1045 - val_acc: 0.8124\n",
            "Epoch 41/50\n",
            "60000/60000 [==============================] - 4s 73us/step - loss: 0.1059 - acc: 0.8132 - val_loss: 0.1041 - val_acc: 0.8124\n",
            "Epoch 42/50\n",
            "60000/60000 [==============================] - 5s 77us/step - loss: 0.1055 - acc: 0.8133 - val_loss: 0.1037 - val_acc: 0.8125\n",
            "Epoch 43/50\n",
            "60000/60000 [==============================] - 5s 78us/step - loss: 0.1051 - acc: 0.8133 - val_loss: 0.1034 - val_acc: 0.8125\n",
            "Epoch 44/50\n",
            "60000/60000 [==============================] - 4s 74us/step - loss: 0.1048 - acc: 0.8133 - val_loss: 0.1030 - val_acc: 0.8125\n",
            "Epoch 45/50\n",
            "60000/60000 [==============================] - 4s 74us/step - loss: 0.1044 - acc: 0.8134 - val_loss: 0.1027 - val_acc: 0.8125\n",
            "Epoch 46/50\n",
            "60000/60000 [==============================] - 4s 74us/step - loss: 0.1041 - acc: 0.8134 - val_loss: 0.1024 - val_acc: 0.8126\n",
            "Epoch 47/50\n",
            "60000/60000 [==============================] - 4s 72us/step - loss: 0.1038 - acc: 0.8134 - val_loss: 0.1021 - val_acc: 0.8126\n",
            "Epoch 48/50\n",
            "60000/60000 [==============================] - 4s 74us/step - loss: 0.1035 - acc: 0.8135 - val_loss: 0.1018 - val_acc: 0.8126\n",
            "Epoch 49/50\n",
            "60000/60000 [==============================] - 4s 74us/step - loss: 0.1032 - acc: 0.8135 - val_loss: 0.1015 - val_acc: 0.8126\n",
            "Epoch 50/50\n",
            "60000/60000 [==============================] - 4s 75us/step - loss: 0.1030 - acc: 0.8135 - val_loss: 0.1013 - val_acc: 0.8126\n"
          ],
          "name": "stdout"
        },
        {
          "output_type": "execute_result",
          "data": {
            "text/plain": [
              "<keras.callbacks.History at 0x7ffb28c29780>"
            ]
          },
          "metadata": {
            "tags": []
          },
          "execution_count": 16
        }
      ]
    },
    {
      "metadata": {
        "id": "34wHuBYa7mX7",
        "colab_type": "code",
        "colab": {}
      },
      "cell_type": "code",
      "source": [
        "# Predicting the test set. We want to view the encoded images as well as the reconstructed images so we fit the test data on both autoencoder as well as encoder\n",
        "\n",
        "encoded_imgs = encoder.predict(X_test)\n",
        "predicted = autoencoder.predict(X_test)"
      ],
      "execution_count": 0,
      "outputs": []
    },
    {
      "metadata": {
        "id": "FtRlKHCn7UNV",
        "colab_type": "code",
        "outputId": "1074d616-5f93-415a-fc96-11a1c2865bcf",
        "colab": {
          "base_uri": "https://localhost:8080/",
          "height": 248
        }
      },
      "cell_type": "code",
      "source": [
        "# Let’s plot the original input, encoded images and the reconstructed images using matplotlib\n",
        "\n",
        "plt.figure(figsize=(40, 4))\n",
        "for i in range(10):\n",
        "    # display original\n",
        "    ax = plt.subplot(3, 20, i + 1)\n",
        "    plt.imshow(X_test[i].reshape(28, 28))\n",
        "    plt.gray()\n",
        "    ax.get_xaxis().set_visible(False)\n",
        "    ax.get_yaxis().set_visible(False)\n",
        "    \n",
        "    # display encoded image\n",
        "    ax = plt.subplot(3, 20, i + 1 + 20)\n",
        "    plt.imshow(encoded_imgs[i].reshape(8,4))\n",
        "    plt.gray()\n",
        "    ax.get_xaxis().set_visible(False)\n",
        "    ax.get_yaxis().set_visible(False)\n",
        "     # display reconstruction\n",
        "    ax = plt.subplot(3, 20, 2*20 +i+ 1)\n",
        "    plt.imshow(predicted[i].reshape(28, 28))\n",
        "    plt.gray()\n",
        "    ax.get_xaxis().set_visible(False)\n",
        "    ax.get_yaxis().set_visible(False)\n",
        "plt.show()"
      ],
      "execution_count": 0,
      "outputs": [
        {
          "output_type": "display_data",
          "data": {
            "image/png": "[encoded data removed]",
            "text/plain": [
              "<Figure size 2880x288 with 30 Axes>"
            ]
          },
          "metadata": {
            "tags": []
          }
        }
      ]
    }
  ]
}