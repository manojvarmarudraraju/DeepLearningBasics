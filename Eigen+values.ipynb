{
  "cells": [
    {
      "metadata": {
        "trusted": true
      },
      "cell_type": "code",
      "source": "# eigendecomposition\nfrom numpy import array\nfrom numpy.linalg import eig",
      "execution_count": 1,
      "outputs": []
    },
    {
      "metadata": {
        "trusted": true
      },
      "cell_type": "code",
      "source": "# define matrix\nA = array([[-2, -4, 2],[-2, 1, 2],[4, 2, 5]])",
      "execution_count": 2,
      "outputs": []
    },
    {
      "metadata": {
        "trusted": true
      },
      "cell_type": "code",
      "source": "print(A)",
      "execution_count": 3,
      "outputs": [
        {
          "output_type": "stream",
          "text": "[[-2 -4  2]\n [-2  1  2]\n [ 4  2  5]]\n",
          "name": "stdout"
        }
      ]
    },
    {
      "metadata": {
        "trusted": true
      },
      "cell_type": "code",
      "source": "# factorize\nvalues, vectors = eig(A)",
      "execution_count": 4,
      "outputs": []
    },
    {
      "metadata": {
        "trusted": true
      },
      "cell_type": "code",
      "source": "print(values)\nprint(vectors)",
      "execution_count": 5,
      "outputs": [
        {
          "output_type": "stream",
          "text": "[-5.  3.  6.]\n[[ 0.81649658  0.53452248  0.05842062]\n [ 0.40824829 -0.80178373  0.35052374]\n [-0.40824829 -0.26726124  0.93472998]]\n",
          "name": "stdout"
        }
      ]
    },
    {
      "metadata": {
        "trusted": true
      },
      "cell_type": "code",
      "source": "# singular-value decomposition\nfrom numpy import array\nfrom scipy.linalg import svd",
      "execution_count": 6,
      "outputs": []
    },
    {
      "metadata": {
        "trusted": true
      },
      "cell_type": "code",
      "source": "# define a matrix\nA = array([\n[3, 1, 1],[-1, 3, 1]])\nprint(A)",
      "execution_count": 9,
      "outputs": [
        {
          "output_type": "stream",
          "text": "[[ 3  1  1]\n [-1  3  1]]\n",
          "name": "stdout"
        }
      ]
    },
    {
      "metadata": {
        "trusted": true
      },
      "cell_type": "code",
      "source": "# factorize\nU, s, V = svd(A)\nprint(U)\nprint(s)\nprint(V)",
      "execution_count": 10,
      "outputs": [
        {
          "output_type": "stream",
          "text": "[[-0.70710678 -0.70710678]\n [-0.70710678  0.70710678]]\n[3.46410162 3.16227766]\n[[-4.08248290e-01 -8.16496581e-01 -4.08248290e-01]\n [-8.94427191e-01  4.47213595e-01  5.27355937e-16]\n [-1.82574186e-01 -3.65148372e-01  9.12870929e-01]]\n",
          "name": "stdout"
        }
      ]
    },
    {
      "metadata": {
        "trusted": true
      },
      "cell_type": "code",
      "source": "# define a matrix\nA = array([\n[3, 1, 1],[-1, 3, 1]])\nprint(A)",
      "execution_count": 11,
      "outputs": [
        {
          "output_type": "stream",
          "text": "[[ 3  1  1]\n [-1  3  1]]\n",
          "name": "stdout"
        }
      ]
    },
    {
      "metadata": {
        "trusted": true
      },
      "cell_type": "code",
      "source": "import numpy as np\nvalues1, vectors1 = eig(np.dot(A, A.T))",
      "execution_count": 13,
      "outputs": []
    },
    {
      "metadata": {
        "trusted": true
      },
      "cell_type": "code",
      "source": "values1",
      "execution_count": 14,
      "outputs": [
        {
          "output_type": "execute_result",
          "execution_count": 14,
          "data": {
            "text/plain": "array([12., 10.])"
          },
          "metadata": {}
        }
      ]
    },
    {
      "metadata": {
        "trusted": true
      },
      "cell_type": "code",
      "source": "vectors1",
      "execution_count": 20,
      "outputs": [
        {
          "output_type": "execute_result",
          "execution_count": 20,
          "data": {
            "text/plain": "array([[ 0.70710678, -0.70710678],\n       [ 0.70710678,  0.70710678]])"
          },
          "metadata": {}
        }
      ]
    },
    {
      "metadata": {
        "trusted": true
      },
      "cell_type": "code",
      "source": "values2, vectors2 = eig(np.dot(A.T, A))",
      "execution_count": 15,
      "outputs": []
    },
    {
      "metadata": {
        "trusted": true
      },
      "cell_type": "code",
      "source": "values2",
      "execution_count": 16,
      "outputs": [
        {
          "output_type": "execute_result",
          "execution_count": 16,
          "data": {
            "text/plain": "array([ 0., 10., 12.])"
          },
          "metadata": {}
        }
      ]
    },
    {
      "metadata": {
        "trusted": true
      },
      "cell_type": "code",
      "source": "vectors2.T",
      "execution_count": 24,
      "outputs": [
        {
          "output_type": "execute_result",
          "execution_count": 24,
          "data": {
            "text/plain": "array([[ 1.82574186e-01,  3.65148372e-01, -9.12870929e-01],\n       [-8.94427191e-01,  4.47213595e-01,  5.07702013e-16],\n       [-4.08248290e-01, -8.16496581e-01, -4.08248290e-01]])"
          },
          "metadata": {}
        }
      ]
    },
    {
      "metadata": {
        "trusted": true
      },
      "cell_type": "code",
      "source": "sigma=np.diag(values1)",
      "execution_count": 18,
      "outputs": []
    },
    {
      "metadata": {
        "trusted": true
      },
      "cell_type": "code",
      "source": "# singular-value decomposition\nfrom numpy import array\nfrom scipy.linalg import svd\n# define a matrix\nA = array([[1, 1],[0, 1],[-1, 1]])\nprint(A)",
      "execution_count": 1,
      "outputs": [
        {
          "output_type": "stream",
          "text": "[[ 1  1]\n [ 0  1]\n [-1  1]]\n",
          "name": "stdout"
        }
      ]
    },
    {
      "metadata": {
        "trusted": true
      },
      "cell_type": "code",
      "source": "# factorize\nU, s, V = svd(A)\nprint(U)\nprint(s)\nprint(V)",
      "execution_count": 2,
      "outputs": [
        {
          "output_type": "stream",
          "text": "[[-0.57735027 -0.70710678  0.40824829]\n [-0.57735027  0.         -0.81649658]\n [-0.57735027  0.70710678  0.40824829]]\n[1.73205081 1.41421356]\n[[-0. -1.]\n [-1. -0.]]\n",
          "name": "stdout"
        }
      ]
    },
    {
      "metadata": {},
      "cell_type": "markdown",
      "source": "# dimensionality reduction"
    },
    {
      "metadata": {
        "trusted": true
      },
      "cell_type": "code",
      "source": "from numpy import array\nfrom numpy import diag\nfrom numpy import zeros\nfrom scipy.linalg import svd",
      "execution_count": 4,
      "outputs": []
    },
    {
      "metadata": {
        "trusted": true
      },
      "cell_type": "code",
      "source": "# define a matrix\nA = array([\n\t[1,2,3,4,5,6,7,8,9,10],\n\t[11,12,13,14,15,16,17,18,19,20],\n\t[21,22,23,24,25,26,27,28,29,30]])\nprint(A)",
      "execution_count": 5,
      "outputs": [
        {
          "output_type": "stream",
          "text": "[[ 1  2  3  4  5  6  7  8  9 10]\n [11 12 13 14 15 16 17 18 19 20]\n [21 22 23 24 25 26 27 28 29 30]]\n",
          "name": "stdout"
        }
      ]
    },
    {
      "metadata": {
        "trusted": true
      },
      "cell_type": "code",
      "source": "# Singular-value decomposition\nU, s, VT = svd(A)",
      "execution_count": 6,
      "outputs": []
    },
    {
      "metadata": {
        "trusted": true
      },
      "cell_type": "code",
      "source": "s",
      "execution_count": 11,
      "outputs": [
        {
          "output_type": "execute_result",
          "execution_count": 11,
          "data": {
            "text/plain": "array([9.69657342e+01, 7.25578339e+00, 5.82172067e-15])"
          },
          "metadata": {}
        }
      ]
    },
    {
      "metadata": {
        "trusted": true
      },
      "cell_type": "code",
      "source": "# create m x n Sigma matrix\nSigma = zeros((A.shape[0], A.shape[1]))",
      "execution_count": 7,
      "outputs": []
    },
    {
      "metadata": {
        "trusted": true
      },
      "cell_type": "code",
      "source": "Sigma",
      "execution_count": 9,
      "outputs": [
        {
          "output_type": "execute_result",
          "execution_count": 9,
          "data": {
            "text/plain": "array([[9.69657342e+01, 0.00000000e+00, 0.00000000e+00, 0.00000000e+00,\n        0.00000000e+00, 0.00000000e+00, 0.00000000e+00, 0.00000000e+00,\n        0.00000000e+00, 0.00000000e+00],\n       [0.00000000e+00, 7.25578339e+00, 0.00000000e+00, 0.00000000e+00,\n        0.00000000e+00, 0.00000000e+00, 0.00000000e+00, 0.00000000e+00,\n        0.00000000e+00, 0.00000000e+00],\n       [0.00000000e+00, 0.00000000e+00, 5.82172067e-15, 0.00000000e+00,\n        0.00000000e+00, 0.00000000e+00, 0.00000000e+00, 0.00000000e+00,\n        0.00000000e+00, 0.00000000e+00]])"
          },
          "metadata": {}
        }
      ]
    },
    {
      "metadata": {
        "trusted": true
      },
      "cell_type": "code",
      "source": "# populate Sigma with n x n diagonal matrix\nSigma[:A.shape[0], :A.shape[0]] = diag(s)",
      "execution_count": 8,
      "outputs": []
    },
    {
      "metadata": {
        "trusted": true
      },
      "cell_type": "code",
      "source": "Sigma",
      "execution_count": 10,
      "outputs": [
        {
          "output_type": "execute_result",
          "execution_count": 10,
          "data": {
            "text/plain": "array([[9.69657342e+01, 0.00000000e+00, 0.00000000e+00, 0.00000000e+00,\n        0.00000000e+00, 0.00000000e+00, 0.00000000e+00, 0.00000000e+00,\n        0.00000000e+00, 0.00000000e+00],\n       [0.00000000e+00, 7.25578339e+00, 0.00000000e+00, 0.00000000e+00,\n        0.00000000e+00, 0.00000000e+00, 0.00000000e+00, 0.00000000e+00,\n        0.00000000e+00, 0.00000000e+00],\n       [0.00000000e+00, 0.00000000e+00, 5.82172067e-15, 0.00000000e+00,\n        0.00000000e+00, 0.00000000e+00, 0.00000000e+00, 0.00000000e+00,\n        0.00000000e+00, 0.00000000e+00]])"
          },
          "metadata": {}
        }
      ]
    },
    {
      "metadata": {
        "trusted": true
      },
      "cell_type": "code",
      "source": "# select\nn_elements = 2\nSigma = Sigma[:, :n_elements]\nVT = VT[:n_elements, :]",
      "execution_count": 12,
      "outputs": []
    },
    {
      "metadata": {
        "trusted": true
      },
      "cell_type": "code",
      "source": "# reconstruct\nB = U.dot(Sigma.dot(VT))\nprint(B)",
      "execution_count": 13,
      "outputs": [
        {
          "output_type": "stream",
          "text": "[[ 1.  2.  3.  4.  5.  6.  7.  8.  9. 10.]\n [11. 12. 13. 14. 15. 16. 17. 18. 19. 20.]\n [21. 22. 23. 24. 25. 26. 27. 28. 29. 30.]]\n",
          "name": "stdout"
        }
      ]
    },
    {
      "metadata": {
        "trusted": true
      },
      "cell_type": "code",
      "source": "# transform\nT = U.dot(Sigma)\nprint(T)",
      "execution_count": 14,
      "outputs": [
        {
          "output_type": "stream",
          "text": "[[-18.52157747   6.47697214]\n [-49.81310011   1.91182038]\n [-81.10462276  -2.65333138]]\n",
          "name": "stdout"
        }
      ]
    },
    {
      "metadata": {
        "trusted": true
      },
      "cell_type": "code",
      "source": "T = A.dot(VT.T)\nprint(T)",
      "execution_count": 15,
      "outputs": [
        {
          "output_type": "stream",
          "text": "[[-18.52157747   6.47697214]\n [-49.81310011   1.91182038]\n [-81.10462276  -2.65333138]]\n",
          "name": "stdout"
        }
      ]
    },
    {
      "metadata": {},
      "cell_type": "markdown",
      "source": "# truncated SVD"
    },
    {
      "metadata": {
        "trusted": true
      },
      "cell_type": "code",
      "source": "from numpy import array\nfrom sklearn.decomposition import TruncatedSVD",
      "execution_count": 16,
      "outputs": []
    },
    {
      "metadata": {
        "trusted": true
      },
      "cell_type": "code",
      "source": "# define array\nA = array([\n\t[1,2,3,4,5,6,7,8,9,10],\n\t[11,12,13,14,15,16,17,18,19,20],\n\t[21,22,23,24,25,26,27,28,29,30]])\nprint(A)",
      "execution_count": 17,
      "outputs": [
        {
          "output_type": "stream",
          "text": "[[ 1  2  3  4  5  6  7  8  9 10]\n [11 12 13 14 15 16 17 18 19 20]\n [21 22 23 24 25 26 27 28 29 30]]\n",
          "name": "stdout"
        }
      ]
    },
    {
      "metadata": {
        "trusted": true
      },
      "cell_type": "code",
      "source": "# svd\nsvd = TruncatedSVD(n_components=3)\nsvd.fit(A)\nresult = svd.transform(A)\nprint(result)",
      "execution_count": 19,
      "outputs": [
        {
          "output_type": "stream",
          "text": "[[ 1.85215775e+01  6.47697214e+00  2.22044605e-16]\n [ 4.98131001e+01  1.91182038e+00  1.33226763e-15]\n [ 8.11046228e+01 -2.65333138e+00  0.00000000e+00]]\n",
          "name": "stdout"
        }
      ]
    },
    {
      "metadata": {
        "trusted": true
      },
      "cell_type": "code",
      "source": "",
      "execution_count": null,
      "outputs": []
    },
    {
      "metadata": {
        "trusted": true
      },
      "cell_type": "code",
      "source": "",
      "execution_count": null,
      "outputs": []
    },
    {
      "metadata": {
        "trusted": true
      },
      "cell_type": "code",
      "source": "",
      "execution_count": null,
      "outputs": []
    }
  ],
  "metadata": {
    "kernelspec": {
      "name": "python3",
      "display_name": "Python 3",
      "language": "python"
    },
    "language_info": {
      "mimetype": "text/x-python",
      "nbconvert_exporter": "python",
      "name": "python",
      "pygments_lexer": "ipython3",
      "version": "3.5.4",
      "file_extension": ".py",
      "codemirror_mode": {
        "version": 3,
        "name": "ipython"
      }
    }
  },
  "nbformat": 4,
  "nbformat_minor": 1
}