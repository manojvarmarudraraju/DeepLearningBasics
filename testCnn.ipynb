{
  "cells": [
    {
      "metadata": {
        "trusted": true
      },
      "cell_type": "code",
      "source": "from keras.layers import  Dense,Flatten,Conv2D,Dropout\nfrom keras.models import Sequential\nfrom keras.utils import to_categorical\nfrom keras.datasets import mnist\n\n(X_train,y_train),(X_test,y_test)=mnist.load_data()\nX_train=X_train.reshape(60000,28,28,1)\nX_test=X_test.reshape(10000,28,28,1)\ny_train=to_categorical(y_train)\ny_test=to_categorical(y_test)\nmodel=Sequential()\nmodel.add(Conv2D(128,activation='relu',kernel_size=3,input_shape=(28,28,1)))\nmodel.add(Conv2D(64,activation='relu',kernel_size=5))\nmodel.add(Flatten())\nmodel.add(Dropout(0.25))\nmodel.add(Dense(128,activation='sigmoid'))\nmodel.add(Dropout(0.25))\nmodel.add(Dense(10,activation='softmax'))\n\nmodel.compile(optimizer='adam',loss='categorical_crossentropy',metrics=['accuracy'])\nmodel.fit(X_train,y_train,validation_data=(X_test,y_test),epochs=4,steps_per_epoch=200,validation_steps=100)",
      "execution_count": null,
      "outputs": []
    },
    {
      "metadata": {
        "trusted": true
      },
      "cell_type": "code",
      "source": "",
      "execution_count": null,
      "outputs": []
    }
  ],
  "metadata": {
    "kernelspec": {
      "name": "python36",
      "display_name": "Python 3.6",
      "language": "python"
    },
    "language_info": {
      "mimetype": "text/x-python",
      "nbconvert_exporter": "python",
      "name": "python",
      "pygments_lexer": "ipython3",
      "version": "3.6.6",
      "file_extension": ".py",
      "codemirror_mode": {
        "version": 3,
        "name": "ipython"
      }
    }
  },
  "nbformat": 4,
  "nbformat_minor": 2
}