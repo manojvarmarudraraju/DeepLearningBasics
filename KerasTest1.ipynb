{
  "cells": [
    {
      "metadata": {
        "trusted": true
      },
      "cell_type": "code",
      "source": "import numpy as np\nimport keras\nfrom keras.models import Sequential\nfrom keras.layers.core import Dense\nfrom keras.optimizers import SGD\nmodel=Sequential()\nmodel.add(Dense(32,activation='relu',input_dim=100))\nmodel.add(Dense(1,activation='sigmoid'))\nmodel.compile(optimizer='rmsprop',loss='binary_crossentropy',metrics=['accuracy'])\n\ndata=np.random.random((1000,100))\nlabels=np.random.random((1000,1))\n\nmodel.fit(data,labels,epochs=10,batch_size=32)",
      "execution_count": 2,
      "outputs": [
        {
          "output_type": "stream",
          "text": "Epoch 1/10\n1000/1000 [==============================] - 0s - loss: 0.7018 - acc: 0.0000e+00     \nEpoch 2/10\n1000/1000 [==============================] - 0s - loss: 0.6973 - acc: 0.0000e+00     \nEpoch 3/10\n1000/1000 [==============================] - 0s - loss: 0.6945 - acc: 0.0000e+00     \nEpoch 4/10\n1000/1000 [==============================] - 0s - loss: 0.6926 - acc: 0.0000e+00     \nEpoch 5/10\n1000/1000 [==============================] - 0s - loss: 0.6916 - acc: 0.0000e+00     \nEpoch 6/10\n1000/1000 [==============================] - 0s - loss: 0.6901 - acc: 0.0000e+00     \nEpoch 7/10\n1000/1000 [==============================] - 0s - loss: 0.6876 - acc: 0.0000e+00     \nEpoch 8/10\n1000/1000 [==============================] - 0s - loss: 0.6892 - acc: 0.0000e+00     \nEpoch 9/10\n1000/1000 [==============================] - 0s - loss: 0.6867 - acc: 0.0000e+00     \nEpoch 10/10\n1000/1000 [==============================] - 0s - loss: 0.6848 - acc: 0.0000e+00     \n",
          "name": "stdout"
        },
        {
          "output_type": "execute_result",
          "execution_count": 2,
          "data": {
            "text/plain": "<keras.callbacks.History at 0x7ff12da44b38>"
          },
          "metadata": {}
        }
      ]
    },
    {
      "metadata": {
        "trusted": true
      },
      "cell_type": "code",
      "source": "import numpy as np\nfrom keras.models import Sequential\nfrom keras.layers.core import Dense\nfrom keras.optimizers import SGD\n\ntraining = np.array([[0,0],[0,1],[1,0],[1,1]])\ntarget = np.array([[1],[0],[0],[1]])\nmodel = Sequential()\nmodel.add(Dense(16, input_dim=2, activation='sigmoid'))\nmodel.add(Dense(1, activation='sigmoid'))\nmodel.compile(loss='mean_squared_error',\n              optimizer='adam',\n              metrics=['accuracy'])\n\nmodel.fit(training, target, epochs=10, verbose=2)",
      "execution_count": 4,
      "outputs": [
        {
          "output_type": "stream",
          "text": "Epoch 1/10\n0s - loss: 0.3000 - acc: 0.5000\nEpoch 2/10\n0s - loss: 0.2990 - acc: 0.5000\nEpoch 3/10\n0s - loss: 0.2980 - acc: 0.5000\nEpoch 4/10\n0s - loss: 0.2970 - acc: 0.5000\nEpoch 5/10\n0s - loss: 0.2960 - acc: 0.5000\nEpoch 6/10\n0s - loss: 0.2950 - acc: 0.5000\nEpoch 7/10\n0s - loss: 0.2940 - acc: 0.5000\nEpoch 8/10\n0s - loss: 0.2930 - acc: 0.5000\nEpoch 9/10\n0s - loss: 0.2921 - acc: 0.5000\nEpoch 10/10\n0s - loss: 0.2911 - acc: 0.5000\n",
          "name": "stdout"
        },
        {
          "output_type": "execute_result",
          "execution_count": 4,
          "data": {
            "text/plain": "<keras.callbacks.History at 0x7ff12cfecc88>"
          },
          "metadata": {}
        }
      ]
    },
    {
      "metadata": {
        "trusted": true
      },
      "cell_type": "code",
      "source": "",
      "execution_count": null,
      "outputs": []
    }
  ],
  "metadata": {
    "kernelspec": {
      "name": "python3",
      "display_name": "Python 3",
      "language": "python"
    },
    "language_info": {
      "mimetype": "text/x-python",
      "nbconvert_exporter": "python",
      "name": "python",
      "pygments_lexer": "ipython3",
      "version": "3.5.4",
      "file_extension": ".py",
      "codemirror_mode": {
        "version": 3,
        "name": "ipython"
      }
    }
  },
  "nbformat": 4,
  "nbformat_minor": 2
}