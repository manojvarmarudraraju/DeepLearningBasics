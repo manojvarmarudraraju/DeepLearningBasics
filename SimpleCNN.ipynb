{
  "cells": [
    {
      "metadata": {
        "collapsed": true
      },
      "cell_type": "markdown",
      "source": "%matplotlib inline\nfrom keras.models import Sequential\nfrom keras.models import Dense,Conv2d,Flatten\nfrom keras.datasets import mnist\nfrom kerass.utils import  to_categorical\nimport matplot.pyplot as plt\n\n\n(X_train,y_train),(X_test,y_test)=mnist.load_data()\n\n"
    },
    {
      "metadata": {
        "trusted": true
      },
      "cell_type": "code",
      "source": "%matplotlib inline \nfrom keras.models import Sequential \nfrom keras.models import Dense,Conv2d,Flatten \nfrom keras.datasets import mnist \nfrom kerass.utils import to_categorical \nimport matplot.pyplot as plt\n\n(X_train,y_train),(X_test,y_test)=mnist.load_data()\nX_train=X_train.reshape(60000,28,28,1)\nX_test=X_test.reshape(10000,28,28,1)\n\n\ny_train=to_categorical(y_train)\ny_test=to_categorical(y_test)\n\nmodel=Sequential()\n\nmodel.add(Conv2D(64,kernel_size=3,activation='relu',input_shape=(28,28,1)))\nmodel.add(Conv2D(32,kernel_size=3,activation='relu'))\nmodel.add(Flatten())\nmodel.add(Dense(10,activation='softmax'))\nmodel.compile(optimizer='rmsprop',loss='categorical_crossentropy',metrics=['accuracy'])\nmodel.fit(X_train,y_train,valdation_data=(X_test,y_test),epochs=1)",
      "execution_count": null,
      "outputs": []
    }
  ],
  "metadata": {
    "kernelspec": {
      "name": "python2",
      "display_name": "Python 2",
      "language": "python"
    },
    "language_info": {
      "mimetype": "text/x-python",
      "nbconvert_exporter": "python",
      "name": "python",
      "pygments_lexer": "ipython2",
      "version": "2.7.15",
      "file_extension": ".py",
      "codemirror_mode": {
        "version": 2,
        "name": "ipython"
      }
    }
  },
  "nbformat": 4,
  "nbformat_minor": 2
}