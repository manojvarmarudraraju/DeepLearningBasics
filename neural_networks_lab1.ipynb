{
  "cells": [
    {
      "metadata": {
        "collapsed": true,
        "trusted": false
      },
      "cell_type": "code",
      "source": "import numpy as np\n\ninput_data=np.array([2,3])\nweights={'node_0':np.array([1,1]),'node_1':np.array([-1,1]),'output':np.array([2,3])}\n\nnode_0_value=(input_data * weights['node_0']).sum()\nnode_1_value=(input_data * weights['node_1']).sum()\nhidden_layers_output=np.array([node_0_value,node_1_value])\noutput_nn=(hidden_layers_output * weights['output'])\nprint(output_nn)",
      "execution_count": null,
      "outputs": []
    }
  ],
  "metadata": {
    "kernelspec": {
      "name": "python3",
      "display_name": "Python 3",
      "language": "python"
    },
    "language_info": {
      "mimetype": "text/x-python",
      "nbconvert_exporter": "python",
      "name": "python",
      "pygments_lexer": "ipython3",
      "version": "3.5.4",
      "file_extension": ".py",
      "codemirror_mode": {
        "version": 3,
        "name": "ipython"
      }
    }
  },
  "nbformat": 4,
  "nbformat_minor": 2
}