{
  "cells": [
    {
      "metadata": {},
      "cell_type": "markdown",
      "source": "# question 1"
    },
    {
      "metadata": {
        "trusted": true
      },
      "cell_type": "code",
      "source": "import numpy as np\nimport math\nfrom numpy.linalg import eig",
      "execution_count": 1,
      "outputs": []
    },
    {
      "metadata": {
        "trusted": true
      },
      "cell_type": "code",
      "source": "# define matrix\nA = np.array([[1, 1, 0,1],[0,0,0,1],[1,1,0,0]])\nB = np.array([[1,2],[2,1]])\nC = np.array([[1,0,1,0],[0,1,0,1]])",
      "execution_count": 2,
      "outputs": []
    },
    {
      "metadata": {
        "trusted": true
      },
      "cell_type": "code",
      "source": "from scipy.linalg import svd\nUa, sigmaA, Va = svd(A)\nprint(Ua)\nprint(sigmaA)\nprint(Va)\n",
      "execution_count": 3,
      "outputs": [
        {
          "output_type": "stream",
          "text": "[[-0.78867513 -0.21132487 -0.57735027]\n [-0.21132487 -0.78867513  0.57735027]\n [-0.57735027  0.57735027  0.57735027]]\n[2.17532775e+00 1.12603250e+00 1.01636548e-16]\n[[-6.27963030e-01 -6.27963030e-01  0.00000000e+00 -4.59700843e-01]\n [ 3.25057584e-01  3.25057584e-01  0.00000000e+00 -8.88073834e-01]\n [-7.07106781e-01  7.07106781e-01  0.00000000e+00  1.13094444e-16]\n [ 0.00000000e+00  0.00000000e+00 -1.00000000e+00  0.00000000e+00]]\n",
          "name": "stdout"
        }
      ]
    },
    {
      "metadata": {
        "trusted": true
      },
      "cell_type": "code",
      "source": "from scipy.linalg import svd\nUb, sigmaB, Vb =svd(B)\nprint(Ub)\nprint(sigmaB)\nprint(Vb)",
      "execution_count": 4,
      "outputs": [
        {
          "output_type": "stream",
          "text": "[[-0.70710678 -0.70710678]\n [-0.70710678  0.70710678]]\n[3. 1.]\n[[-0.70710678 -0.70710678]\n [ 0.70710678 -0.70710678]]\n",
          "name": "stdout"
        }
      ]
    },
    {
      "metadata": {
        "trusted": true,
        "scrolled": true
      },
      "cell_type": "code",
      "source": "from scipy.linalg import svd\nUc, sigmaC, Vc = svd(C)\nprint(Uc)\nprint(sigmaC)\nprint(Vc)",
      "execution_count": 5,
      "outputs": [
        {
          "output_type": "stream",
          "text": "[[1. 0.]\n [0. 1.]]\n[1.41421356 1.41421356]\n[[ 0.70710678  0.          0.70710678  0.        ]\n [ 0.          0.70710678  0.          0.70710678]\n [-0.70710678  0.          0.70710678  0.        ]\n [ 0.         -0.70710678  0.          0.70710678]]\n",
          "name": "stdout"
        }
      ]
    },
    {
      "metadata": {},
      "cell_type": "markdown",
      "source": "# question2"
    },
    {
      "metadata": {
        "trusted": true
      },
      "cell_type": "code",
      "source": "#change matrices for answers\nfrom sklearn.preprocessing import StandardScaler\na_std = StandardScaler().fit_transform(A)\nfeatures = a_std.T\ncov_matrix=np.cov(features)\nprint(cov_matrix)",
      "execution_count": 6,
      "outputs": [
        {
          "output_type": "stream",
          "text": "[[ 1.5   1.5   0.   -0.75]\n [ 1.5   1.5   0.   -0.75]\n [ 0.    0.    0.    0.  ]\n [-0.75 -0.75  0.    1.5 ]]\n",
          "name": "stdout"
        },
        {
          "output_type": "stream",
          "text": "/home/nbuser/anaconda3_501/lib/python3.6/site-packages/sklearn/utils/validation.py:475: DataConversionWarning: Data with input dtype int64 was converted to float64 by StandardScaler.\n  warnings.warn(msg, DataConversionWarning)\n",
          "name": "stderr"
        }
      ]
    },
    {
      "metadata": {
        "trusted": true
      },
      "cell_type": "code",
      "source": "eig_val ,eig_vec = np.linalg.eig(cov_matrix)\nprint(eig_val)\nprint(\"-----------------------------------------------------------------------------------------------\")\nprint(eig_vec)",
      "execution_count": 7,
      "outputs": [
        {
          "output_type": "stream",
          "text": "[ 3.54903811e+00 -1.76297202e-16  9.50961894e-01  0.00000000e+00]\n-----------------------------------------------------------------------------------------------\n[[-6.27963030e-01 -7.07106781e-01  3.25057584e-01  0.00000000e+00]\n [-6.27963030e-01  7.07106781e-01  3.25057584e-01  0.00000000e+00]\n [ 0.00000000e+00  0.00000000e+00  0.00000000e+00  1.00000000e+00]\n [ 4.59700843e-01 -1.14672090e-16  8.88073834e-01  0.00000000e+00]]\n",
          "name": "stdout"
        }
      ]
    },
    {
      "metadata": {
        "trusted": true
      },
      "cell_type": "code",
      "source": "b_std = StandardScaler().fit_transform(B)\nfeatures = b_std.T\ncov_matrix=np.cov(features)\neig_val ,eig_vec = np.linalg.eig(cov_matrix)\nprint(eig_val)\nprint(\"-----------------------------------------------------------------------------------------------\")\nprint(eig_vec)\n",
      "execution_count": 8,
      "outputs": [
        {
          "output_type": "stream",
          "text": "[4.0000000e+00 4.4408921e-16]\n-----------------------------------------------------------------------------------------------\n[[ 0.70710678  0.70710678]\n [-0.70710678  0.70710678]]\n",
          "name": "stdout"
        }
      ]
    },
    {
      "metadata": {
        "trusted": true
      },
      "cell_type": "code",
      "source": "c_std = StandardScaler().fit_transform(C)\nfeatures = c_std.T\ncov_matrix=np.cov(features)\n\neig_val ,eig_vec = np.linalg.eig(cov_matrix)\nprint(eig_val)\nprint(\"-----------------------------------------------------------------------------------------------\")\nprint(eig_vec)",
      "execution_count": 9,
      "outputs": [
        {
          "output_type": "stream",
          "text": "[-8.8817842e-16  8.0000000e+00  0.0000000e+00  0.0000000e+00]\n-----------------------------------------------------------------------------------------------\n[[-8.66025404e-01 -5.00000000e-01 -3.71854204e-18  3.71854204e-18]\n [-2.88675135e-01  5.00000000e-01  5.77350269e-01 -5.77350269e-01]\n [ 2.88675135e-01 -5.00000000e-01  7.88675135e-01  2.11324865e-01]\n [-2.88675135e-01  5.00000000e-01  2.11324865e-01  7.88675135e-01]]\n",
          "name": "stdout"
        }
      ]
    },
    {
      "metadata": {},
      "cell_type": "markdown",
      "source": "# question 3"
    },
    {
      "metadata": {
        "trusted": true
      },
      "cell_type": "code",
      "source": "X=np.array([[7,4,3],[4,1,8],[6,3,5],[8,6,1],[8,5,7],[7,2,9],[5,3,3],[9,5,8],[7,4,5],[8,2,2]])",
      "execution_count": 10,
      "outputs": []
    },
    {
      "metadata": {
        "trusted": true
      },
      "cell_type": "code",
      "source": "from sklearn.preprocessing import StandardScaler\nx_std = StandardScaler().fit_transform(X)\nfeatures = a_std.T\ncov_matrix=np.cov(features)\nprint(cov_matrix)",
      "execution_count": 11,
      "outputs": [
        {
          "output_type": "stream",
          "text": "[[ 1.5   1.5   0.   -0.75]\n [ 1.5   1.5   0.   -0.75]\n [ 0.    0.    0.    0.  ]\n [-0.75 -0.75  0.    1.5 ]]\n",
          "name": "stdout"
        }
      ]
    },
    {
      "metadata": {
        "trusted": true
      },
      "cell_type": "code",
      "source": "eig_val ,eig_vec = np.linalg.eig(cov_matrix)\nprojected_1 =a_std.dot(eig_vec.T[0])\nprojected_2 =a_std.dot(eig_vec.T[1])\nprojected_3 =a_std.dot(eig_vec.T[2])\nprint(projected_1)\nprint(projected_2)\nprint(projected_3)",
      "execution_count": 12,
      "outputs": [
        {
          "output_type": "stream",
          "text": "[-0.56301625  2.10120525 -1.538189  ]\n[-2.77555756e-16  4.44089210e-16 -1.11022302e-16]\n[ 1.08766387 -0.29143866 -0.79622522]\n",
          "name": "stdout"
        }
      ]
    },
    {
      "metadata": {},
      "cell_type": "markdown",
      "source": "# question 4\n"
    },
    {
      "metadata": {
        "trusted": true
      },
      "cell_type": "code",
      "source": "import pandas as pd\n%matplotlib inline\n\nimport matplotlib.pyplot as plt\ndf = pd.DataFrame(columns=['year', 'sales(Million Euro)', 'advertising(Millian Euro)'])",
      "execution_count": 13,
      "outputs": []
    },
    {
      "metadata": {
        "trusted": true
      },
      "cell_type": "code",
      "source": "df.loc[0] = [1,651,23]\ndf.loc[1] = [2,762,26]\ndf.loc[2] = [3,856,30]\ndf.loc[3] = [4,1603,34]\ndf.loc[4] = [5,1190,43]\ndf.loc[5] = [6,1298,48]\ndf.loc[6] = [7, 1421,52]\ndf.loc[7] = [8 ,1440,57]\ndf.loc[8] = [9,1518,58]\n\n",
      "execution_count": 14,
      "outputs": []
    },
    {
      "metadata": {
        "trusted": true
      },
      "cell_type": "code",
      "source": "Y = df['sales(Million Euro)'].values\nX = df['advertising(Millian Euro)'].values\nprint(Y)\nprint(X)",
      "execution_count": 15,
      "outputs": [
        {
          "output_type": "stream",
          "text": "[651 762 856 1603 1190 1298 1421 1440 1518]\n[23 26 30 34 43 48 52 57 58]\n",
          "name": "stdout"
        }
      ]
    },
    {
      "metadata": {
        "trusted": true
      },
      "cell_type": "code",
      "source": "mean_x=np.mean(X)\nmean_y=np.mean(Y)\n\nn=len(X)\nnumerator = 0\ndenominator =0\nfor i in range(n):\n    numerator += (X[i]-mean_x) * (Y[i]-mean_y)\n    denominator += ((X[i]-mean_x)**2)\nb=numerator/denominator\na=mean_y - (b*mean_x)\nprint(a)\nprint(b)",
      "execution_count": 16,
      "outputs": [
        {
          "output_type": "stream",
          "text": "339.5163085484619\n20.709846962436234\n",
          "name": "stdout"
        }
      ]
    },
    {
      "metadata": {
        "trusted": true
      },
      "cell_type": "code",
      "source": "max_x =np.max(X)\nmin_x =np.min(X)\n\nx=np.linspace(min_x,max_x,1000)\ny= a + b *x\n\nplt.plot(x,y,color ='#000000',label='Regress')\nplt.scatter(X,Y, color ='#5ada55',label='Scatter')\nplt.xlabel('sales(Million Euro)')\nplt.ylabel('advertising(Millian Euro)')\nplt.legend()\nplt.show()",
      "execution_count": 17,
      "outputs": [
        {
          "output_type": "display_data",
          "data": {
            "image/png": "[encoded data removed]",
            "text/plain": "<Figure size 432x288 with 1 Axes>"
          },
          "metadata": {
            "needs_background": "light"
          }
        }
      ]
    },
    {
      "metadata": {},
      "cell_type": "markdown",
      "source": "# question 5"
    },
    {
      "metadata": {
        "trusted": true
      },
      "cell_type": "code",
      "source": "\ns= pd.DataFrame(columns=['GrainSize(mm)','spiders'])\n",
      "execution_count": 18,
      "outputs": []
    },
    {
      "metadata": {
        "trusted": true
      },
      "cell_type": "code",
      "source": "df.loc[0] = [0.245,0]\ndf.loc[1] = [0.247,0]\ndf.loc[2] = [0.285,1]\ndf.loc[3] = [0.299,1]\ndf.loc[4] = [0.327,1]\ndf.loc[5] = [0.347,1]\ndf.loc[6] = [0.356,0]\ndf.loc[7] = [0.36,1]\ndf.loc[8] = [0.363,0]\ndf.loc[9]  = [0.364,1]\ndf.loc[10] = [0.398,0]\ndf.loc[11] = [0.4,1]\ndf.loc[12] = [0.409,0]\ndf.loc[13] = [0.421,1]\ndf.loc[14] = [0.432,0]\ndf.loc[15] = [0.473,1]\ndf.loc[16] = [0.509,1]\ndf.loc[17] = [0.529,1]\ndf.loc[18] = [0.561,0]\ndf.loc[19] = [0.569,0]\ndf.loc[20] = [0.594,1]\ndf.loc[21] = [0.638,1]\ndf.loc[22] = [0.656,1]\ndf.loc[23] = [0.816,1]",
      "execution_count": 19,
      "outputs": [
        {
          "output_type": "error",
          "ename": "ValueError",
          "evalue": "cannot copy sequence with size 2 to array axis with dimension 3",
          "traceback": [
            "\u001b[0;31m---------------------------------------------------------------------------\u001b[0m",
            "\u001b[0;31mValueError\u001b[0m                                Traceback (most recent call last)",
            "\u001b[0;32m<ipython-input-19-b69a96f74e24>\u001b[0m in \u001b[0;36m<module>\u001b[0;34m\u001b[0m\n\u001b[0;32m----> 1\u001b[0;31m \u001b[0mdf\u001b[0m\u001b[0;34m.\u001b[0m\u001b[0mloc\u001b[0m\u001b[0;34m[\u001b[0m\u001b[0;36m0\u001b[0m\u001b[0;34m]\u001b[0m \u001b[0;34m=\u001b[0m \u001b[0;34m[\u001b[0m\u001b[0;36m0.245\u001b[0m\u001b[0;34m,\u001b[0m\u001b[0;36m0\u001b[0m\u001b[0;34m]\u001b[0m\u001b[0;34m\u001b[0m\u001b[0m\n\u001b[0m\u001b[1;32m      2\u001b[0m \u001b[0mdf\u001b[0m\u001b[0;34m.\u001b[0m\u001b[0mloc\u001b[0m\u001b[0;34m[\u001b[0m\u001b[0;36m1\u001b[0m\u001b[0;34m]\u001b[0m \u001b[0;34m=\u001b[0m \u001b[0;34m[\u001b[0m\u001b[0;36m0.247\u001b[0m\u001b[0;34m,\u001b[0m\u001b[0;36m0\u001b[0m\u001b[0;34m]\u001b[0m\u001b[0;34m\u001b[0m\u001b[0m\n\u001b[1;32m      3\u001b[0m \u001b[0mdf\u001b[0m\u001b[0;34m.\u001b[0m\u001b[0mloc\u001b[0m\u001b[0;34m[\u001b[0m\u001b[0;36m2\u001b[0m\u001b[0;34m]\u001b[0m \u001b[0;34m=\u001b[0m \u001b[0;34m[\u001b[0m\u001b[0;36m0.285\u001b[0m\u001b[0;34m,\u001b[0m\u001b[0;36m1\u001b[0m\u001b[0;34m]\u001b[0m\u001b[0;34m\u001b[0m\u001b[0m\n\u001b[1;32m      4\u001b[0m \u001b[0mdf\u001b[0m\u001b[0;34m.\u001b[0m\u001b[0mloc\u001b[0m\u001b[0;34m[\u001b[0m\u001b[0;36m3\u001b[0m\u001b[0;34m]\u001b[0m \u001b[0;34m=\u001b[0m \u001b[0;34m[\u001b[0m\u001b[0;36m0.299\u001b[0m\u001b[0;34m,\u001b[0m\u001b[0;36m1\u001b[0m\u001b[0;34m]\u001b[0m\u001b[0;34m\u001b[0m\u001b[0m\n\u001b[1;32m      5\u001b[0m \u001b[0mdf\u001b[0m\u001b[0;34m.\u001b[0m\u001b[0mloc\u001b[0m\u001b[0;34m[\u001b[0m\u001b[0;36m4\u001b[0m\u001b[0;34m]\u001b[0m \u001b[0;34m=\u001b[0m \u001b[0;34m[\u001b[0m\u001b[0;36m0.327\u001b[0m\u001b[0;34m,\u001b[0m\u001b[0;36m1\u001b[0m\u001b[0;34m]\u001b[0m\u001b[0;34m\u001b[0m\u001b[0m\n",
            "\u001b[0;32m~/anaconda3_501/lib/python3.6/site-packages/pandas/core/indexing.py\u001b[0m in \u001b[0;36m__setitem__\u001b[0;34m(self, key, value)\u001b[0m\n\u001b[1;32m    192\u001b[0m             \u001b[0mkey\u001b[0m \u001b[0;34m=\u001b[0m \u001b[0mcom\u001b[0m\u001b[0;34m.\u001b[0m\u001b[0m_apply_if_callable\u001b[0m\u001b[0;34m(\u001b[0m\u001b[0mkey\u001b[0m\u001b[0;34m,\u001b[0m \u001b[0mself\u001b[0m\u001b[0;34m.\u001b[0m\u001b[0mobj\u001b[0m\u001b[0;34m)\u001b[0m\u001b[0;34m\u001b[0m\u001b[0m\n\u001b[1;32m    193\u001b[0m         \u001b[0mindexer\u001b[0m \u001b[0;34m=\u001b[0m \u001b[0mself\u001b[0m\u001b[0;34m.\u001b[0m\u001b[0m_get_setitem_indexer\u001b[0m\u001b[0;34m(\u001b[0m\u001b[0mkey\u001b[0m\u001b[0;34m)\u001b[0m\u001b[0;34m\u001b[0m\u001b[0m\n\u001b[0;32m--> 194\u001b[0;31m         \u001b[0mself\u001b[0m\u001b[0;34m.\u001b[0m\u001b[0m_setitem_with_indexer\u001b[0m\u001b[0;34m(\u001b[0m\u001b[0mindexer\u001b[0m\u001b[0;34m,\u001b[0m \u001b[0mvalue\u001b[0m\u001b[0;34m)\u001b[0m\u001b[0;34m\u001b[0m\u001b[0m\n\u001b[0m\u001b[1;32m    195\u001b[0m \u001b[0;34m\u001b[0m\u001b[0m\n\u001b[1;32m    196\u001b[0m     \u001b[0;32mdef\u001b[0m \u001b[0m_has_valid_type\u001b[0m\u001b[0;34m(\u001b[0m\u001b[0mself\u001b[0m\u001b[0;34m,\u001b[0m \u001b[0mk\u001b[0m\u001b[0;34m,\u001b[0m \u001b[0maxis\u001b[0m\u001b[0;34m)\u001b[0m\u001b[0;34m:\u001b[0m\u001b[0;34m\u001b[0m\u001b[0m\n",
            "\u001b[0;32m~/anaconda3_501/lib/python3.6/site-packages/pandas/core/indexing.py\u001b[0m in \u001b[0;36m_setitem_with_indexer\u001b[0;34m(self, indexer, value)\u001b[0m\n\u001b[1;32m    637\u001b[0m             \u001b[0mself\u001b[0m\u001b[0;34m.\u001b[0m\u001b[0mobj\u001b[0m\u001b[0;34m.\u001b[0m\u001b[0m_consolidate_inplace\u001b[0m\u001b[0;34m(\u001b[0m\u001b[0;34m)\u001b[0m\u001b[0;34m\u001b[0m\u001b[0m\n\u001b[1;32m    638\u001b[0m             self.obj._data = self.obj._data.setitem(indexer=indexer,\n\u001b[0;32m--> 639\u001b[0;31m                                                     value=value)\n\u001b[0m\u001b[1;32m    640\u001b[0m             \u001b[0mself\u001b[0m\u001b[0;34m.\u001b[0m\u001b[0mobj\u001b[0m\u001b[0;34m.\u001b[0m\u001b[0m_maybe_update_cacher\u001b[0m\u001b[0;34m(\u001b[0m\u001b[0mclear\u001b[0m\u001b[0;34m=\u001b[0m\u001b[0;32mTrue\u001b[0m\u001b[0;34m)\u001b[0m\u001b[0;34m\u001b[0m\u001b[0m\n\u001b[1;32m    641\u001b[0m \u001b[0;34m\u001b[0m\u001b[0m\n",
            "\u001b[0;32m~/anaconda3_501/lib/python3.6/site-packages/pandas/core/internals.py\u001b[0m in \u001b[0;36msetitem\u001b[0;34m(self, **kwargs)\u001b[0m\n\u001b[1;32m   3439\u001b[0m \u001b[0;34m\u001b[0m\u001b[0m\n\u001b[1;32m   3440\u001b[0m     \u001b[0;32mdef\u001b[0m \u001b[0msetitem\u001b[0m\u001b[0;34m(\u001b[0m\u001b[0mself\u001b[0m\u001b[0;34m,\u001b[0m \u001b[0;34m**\u001b[0m\u001b[0mkwargs\u001b[0m\u001b[0;34m)\u001b[0m\u001b[0;34m:\u001b[0m\u001b[0;34m\u001b[0m\u001b[0m\n\u001b[0;32m-> 3441\u001b[0;31m         \u001b[0;32mreturn\u001b[0m \u001b[0mself\u001b[0m\u001b[0;34m.\u001b[0m\u001b[0mapply\u001b[0m\u001b[0;34m(\u001b[0m\u001b[0;34m'setitem'\u001b[0m\u001b[0;34m,\u001b[0m \u001b[0;34m**\u001b[0m\u001b[0mkwargs\u001b[0m\u001b[0;34m)\u001b[0m\u001b[0;34m\u001b[0m\u001b[0m\n\u001b[0m\u001b[1;32m   3442\u001b[0m \u001b[0;34m\u001b[0m\u001b[0m\n\u001b[1;32m   3443\u001b[0m     \u001b[0;32mdef\u001b[0m \u001b[0mputmask\u001b[0m\u001b[0;34m(\u001b[0m\u001b[0mself\u001b[0m\u001b[0;34m,\u001b[0m \u001b[0;34m**\u001b[0m\u001b[0mkwargs\u001b[0m\u001b[0;34m)\u001b[0m\u001b[0;34m:\u001b[0m\u001b[0;34m\u001b[0m\u001b[0m\n",
            "\u001b[0;32m~/anaconda3_501/lib/python3.6/site-packages/pandas/core/internals.py\u001b[0m in \u001b[0;36mapply\u001b[0;34m(self, f, axes, filter, do_integrity_check, consolidate, **kwargs)\u001b[0m\n\u001b[1;32m   3327\u001b[0m \u001b[0;34m\u001b[0m\u001b[0m\n\u001b[1;32m   3328\u001b[0m             \u001b[0mkwargs\u001b[0m\u001b[0;34m[\u001b[0m\u001b[0;34m'mgr'\u001b[0m\u001b[0;34m]\u001b[0m \u001b[0;34m=\u001b[0m \u001b[0mself\u001b[0m\u001b[0;34m\u001b[0m\u001b[0m\n\u001b[0;32m-> 3329\u001b[0;31m             \u001b[0mapplied\u001b[0m \u001b[0;34m=\u001b[0m \u001b[0mgetattr\u001b[0m\u001b[0;34m(\u001b[0m\u001b[0mb\u001b[0m\u001b[0;34m,\u001b[0m \u001b[0mf\u001b[0m\u001b[0;34m)\u001b[0m\u001b[0;34m(\u001b[0m\u001b[0;34m**\u001b[0m\u001b[0mkwargs\u001b[0m\u001b[0;34m)\u001b[0m\u001b[0;34m\u001b[0m\u001b[0m\n\u001b[0m\u001b[1;32m   3330\u001b[0m             \u001b[0mresult_blocks\u001b[0m \u001b[0;34m=\u001b[0m \u001b[0m_extend_blocks\u001b[0m\u001b[0;34m(\u001b[0m\u001b[0mapplied\u001b[0m\u001b[0;34m,\u001b[0m \u001b[0mresult_blocks\u001b[0m\u001b[0;34m)\u001b[0m\u001b[0;34m\u001b[0m\u001b[0m\n\u001b[1;32m   3331\u001b[0m \u001b[0;34m\u001b[0m\u001b[0m\n",
            "\u001b[0;32m~/anaconda3_501/lib/python3.6/site-packages/pandas/core/internals.py\u001b[0m in \u001b[0;36msetitem\u001b[0;34m(self, indexer, value, mgr)\u001b[0m\n\u001b[1;32m    899\u001b[0m         \u001b[0;31m# set\u001b[0m\u001b[0;34m\u001b[0m\u001b[0;34m\u001b[0m\u001b[0m\n\u001b[1;32m    900\u001b[0m         \u001b[0;32melse\u001b[0m\u001b[0;34m:\u001b[0m\u001b[0;34m\u001b[0m\u001b[0m\n\u001b[0;32m--> 901\u001b[0;31m             \u001b[0mvalues\u001b[0m\u001b[0;34m[\u001b[0m\u001b[0mindexer\u001b[0m\u001b[0;34m]\u001b[0m \u001b[0;34m=\u001b[0m \u001b[0mvalue\u001b[0m\u001b[0;34m\u001b[0m\u001b[0m\n\u001b[0m\u001b[1;32m    902\u001b[0m \u001b[0;34m\u001b[0m\u001b[0m\n\u001b[1;32m    903\u001b[0m         \u001b[0;31m# coerce and try to infer the dtypes of the result\u001b[0m\u001b[0;34m\u001b[0m\u001b[0;34m\u001b[0m\u001b[0m\n",
            "\u001b[0;31mValueError\u001b[0m: cannot copy sequence with size 2 to array axis with dimension 3"
          ]
        }
      ]
    },
    {
      "metadata": {
        "trusted": true
      },
      "cell_type": "code",
      "source": "from sklearn import  linear_model,metrics\n\nX = df['GrainSize(mm)'].values\nY = df['spiders'].values\nprint(X)",
      "execution_count": null,
      "outputs": []
    },
    {
      "metadata": {
        "trusted": true
      },
      "cell_type": "code",
      "source": "\n\n# splitting X and Y into training and testing sets\nfrom sklearn.model_selection import train_test_split\nX_train,X_test,Y_train,Y_test=train_test_split(X,Y,test_size=0.4,random_state=1)\n# create logistic regression object\nreg = linear_model.LogisticRegression()\nprint(X_train)\nprint(Y_train)\nX_train.reshape(-1,1)",
      "execution_count": null,
      "outputs": []
    },
    {
      "metadata": {
        "trusted": true
      },
      "cell_type": "code",
      "source": "# train the model using the testing sets\nreg.fit(X_train,Y_train)\n# making predictions on the testing set\ny_pred = reg.predict(X_test)\n\n",
      "execution_count": null,
      "outputs": []
    }
  ],
  "metadata": {
    "kernelspec": {
      "name": "python36",
      "display_name": "Python 3.6",
      "language": "python"
    },
    "language_info": {
      "mimetype": "text/x-python",
      "nbconvert_exporter": "python",
      "name": "python",
      "pygments_lexer": "ipython3",
      "version": "3.6.6",
      "file_extension": ".py",
      "codemirror_mode": {
        "version": 3,
        "name": "ipython"
      }
    }
  },
  "nbformat": 4,
  "nbformat_minor": 2
}