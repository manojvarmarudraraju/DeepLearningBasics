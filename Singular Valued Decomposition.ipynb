{
  "cells": [
    {
      "metadata": {
        "trusted": true
      },
      "cell_type": "code",
      "source": "from array import *\nimport numpy as np\nfrom numpy.linalg import eig\nfrom scipy.linalg import svd\nA=np.array([[3,1,1],[-1,3,1]])\nvalues,vectors=eig(np.dot(A,A.T))\nvalues1,vectors1=eig(np.dot(A.T,A))\nprint(vectors)\nprint(vectors1)\nmat1,mat2,mat3=svd(A)\nprint(mat1)\nprint(mat2)\nprint(mat3)",
      "execution_count": 15,
      "outputs": [
        {
          "output_type": "stream",
          "text": "[[ 0.70710678 -0.70710678]\n [ 0.70710678  0.70710678]]\n[[ 1.82574186e-01 -8.94427191e-01 -4.08248290e-01]\n [ 3.65148372e-01  4.47213595e-01 -8.16496581e-01]\n [-9.12870929e-01  5.07702013e-16 -4.08248290e-01]]\n[[-0.70710678 -0.70710678]\n [-0.70710678  0.70710678]]\n[3.46410162 3.16227766]\n[[-4.08248290e-01 -8.16496581e-01 -4.08248290e-01]\n [-8.94427191e-01  4.47213595e-01  5.27355937e-16]\n [-1.82574186e-01 -3.65148372e-01  9.12870929e-01]]\n",
          "name": "stdout"
        }
      ]
    },
    {
      "metadata": {
        "trusted": true
      },
      "cell_type": "code",
      "source": "",
      "execution_count": null,
      "outputs": []
    }
  ],
  "metadata": {
    "kernelspec": {
      "name": "python2",
      "display_name": "Python 2",
      "language": "python"
    },
    "language_info": {
      "mimetype": "text/x-python",
      "nbconvert_exporter": "python",
      "name": "python",
      "pygments_lexer": "ipython2",
      "version": "2.7.15",
      "file_extension": ".py",
      "codemirror_mode": {
        "version": 2,
        "name": "ipython"
      }
    }
  },
  "nbformat": 4,
  "nbformat_minor": 2
}