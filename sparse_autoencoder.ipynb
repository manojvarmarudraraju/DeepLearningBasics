{
  "nbformat": 4,
  "nbformat_minor": 0,
  "metadata": {
    "colab": {
      "name": "sparse_autoencoder.ipynb",
      "version": "0.3.2",
      "provenance": []
    },
    "kernelspec": {
      "name": "python3",
      "display_name": "Python 3"
    }
  },
  "cells": [
    {
      "metadata": {
        "id": "QdMO8vTxLYVa",
        "colab_type": "code",
        "colab": {
          "base_uri": "https://localhost:8080/",
          "height": 105
        },
        "outputId": "c3b82298-a010-4071-d81d-837849cf265e"
      },
      "cell_type": "code",
      "source": [
        "from keras.layers import Input, Dense\n",
        "from keras.models import Model\n",
        "\n",
        "# this is the size of our encoded representations\n",
        "encoding_dim = 32  # 32 floats -> compression of factor 24.5, assuming the input is 784 floats\n",
        "\n",
        "# this is our input placeholder\n",
        "input_img = Input(shape=(784,))\n",
        "# \"encoded\" is the encoded representation of the input\n",
        "encoded = Dense(encoding_dim, activation='relu')(input_img)\n",
        "# \"decoded\" is the lossy reconstruction of the input\n",
        "decoded = Dense(784, activation='sigmoid')(encoded)\n",
        "\n",
        "# this model maps an input to its reconstruction\n",
        "autoencoder = Model(input_img, decoded)"
      ],
      "execution_count": 1,
      "outputs": [
        {
          "output_type": "stream",
          "text": [
            "Using TensorFlow backend.\n"
          ],
          "name": "stderr"
        },
        {
          "output_type": "stream",
          "text": [
            "WARNING:tensorflow:From /usr/local/lib/python3.6/dist-packages/tensorflow/python/framework/op_def_library.py:263: colocate_with (from tensorflow.python.framework.ops) is deprecated and will be removed in a future version.\n",
            "Instructions for updating:\n",
            "Colocations handled automatically by placer.\n"
          ],
          "name": "stdout"
        }
      ]
    },
    {
      "metadata": {
        "id": "7hM37wDDLb2C",
        "colab_type": "code",
        "colab": {}
      },
      "cell_type": "code",
      "source": [
        "# this model maps an input to its encoded representation\n",
        "encoder = Model(input_img, encoded)"
      ],
      "execution_count": 0,
      "outputs": []
    },
    {
      "metadata": {
        "id": "Bikkey04Lv8x",
        "colab_type": "code",
        "colab": {}
      },
      "cell_type": "code",
      "source": [
        "# create a placeholder for an encoded (32-dimensional) input\n",
        "encoded_input = Input(shape=(encoding_dim,))\n",
        "# retrieve the last layer of the autoencoder model\n",
        "decoder_layer = autoencoder.layers[-1]\n",
        "# create the decoder model\n",
        "decoder = Model(encoded_input, decoder_layer(encoded_input))"
      ],
      "execution_count": 0,
      "outputs": []
    },
    {
      "metadata": {
        "id": "z0m_F_ghLwZr",
        "colab_type": "code",
        "colab": {}
      },
      "cell_type": "code",
      "source": [
        "autoencoder.compile(optimizer='adadelta', loss='binary_crossentropy')"
      ],
      "execution_count": 0,
      "outputs": []
    },
    {
      "metadata": {
        "id": "x8WNjAUpLe0u",
        "colab_type": "code",
        "colab": {}
      },
      "cell_type": "code",
      "source": [
        "from keras.datasets import mnist\n",
        "import numpy as np\n",
        "(x_train, _), (x_test, _) = mnist.load_data()"
      ],
      "execution_count": 0,
      "outputs": []
    },
    {
      "metadata": {
        "id": "xSAVGorPLhC1",
        "colab_type": "code",
        "outputId": "0cd2df12-e94b-4c83-a0a2-769f1cba0092",
        "colab": {
          "base_uri": "https://localhost:8080/",
          "height": 51
        }
      },
      "cell_type": "code",
      "source": [
        "x_train = x_train.astype('float32') / 255.\n",
        "x_test = x_test.astype('float32') / 255.\n",
        "x_train = x_train.reshape((len(x_train), np.prod(x_train.shape[1:])))\n",
        "x_test = x_test.reshape((len(x_test), np.prod(x_test.shape[1:])))\n",
        "print(x_train.shape)\n",
        "print(x_test.shape)"
      ],
      "execution_count": 0,
      "outputs": [
        {
          "output_type": "stream",
          "text": [
            "(60000, 784)\n",
            "(10000, 784)\n"
          ],
          "name": "stdout"
        }
      ]
    },
    {
      "metadata": {
        "id": "QML6tFjBLjvL",
        "colab_type": "code",
        "outputId": "1b9f7889-3c10-4f24-cc48-0807c8cf00d9",
        "colab": {
          "base_uri": "https://localhost:8080/",
          "height": 1751
        }
      },
      "cell_type": "code",
      "source": [
        "autoencoder.fit(x_train, x_train,\n",
        "                epochs=50,\n",
        "                batch_size=256,\n",
        "                shuffle=True,\n",
        "                validation_data=(x_test, x_test))"
      ],
      "execution_count": 0,
      "outputs": [
        {
          "output_type": "stream",
          "text": [
            "Train on 60000 samples, validate on 10000 samples\n",
            "Epoch 1/50\n",
            "60000/60000 [==============================] - 5s 79us/step - loss: 0.3630 - val_loss: 0.2709\n",
            "Epoch 2/50\n",
            "60000/60000 [==============================] - 4s 74us/step - loss: 0.2634 - val_loss: 0.2523\n",
            "Epoch 3/50\n",
            "60000/60000 [==============================] - 4s 72us/step - loss: 0.2418 - val_loss: 0.2290\n",
            "Epoch 4/50\n",
            "60000/60000 [==============================] - 4s 71us/step - loss: 0.2210 - val_loss: 0.2107\n",
            "Epoch 5/50\n",
            "60000/60000 [==============================] - 4s 71us/step - loss: 0.2056 - val_loss: 0.1979\n",
            "Epoch 6/50\n",
            "60000/60000 [==============================] - 4s 73us/step - loss: 0.1947 - val_loss: 0.1886\n",
            "Epoch 7/50\n",
            "60000/60000 [==============================] - 4s 75us/step - loss: 0.1865 - val_loss: 0.1815\n",
            "Epoch 8/50\n",
            "60000/60000 [==============================] - 4s 72us/step - loss: 0.1799 - val_loss: 0.1754\n",
            "Epoch 9/50\n",
            "60000/60000 [==============================] - 4s 72us/step - loss: 0.1743 - val_loss: 0.1702\n",
            "Epoch 10/50\n",
            "60000/60000 [==============================] - 4s 72us/step - loss: 0.1693 - val_loss: 0.1654\n",
            "Epoch 11/50\n",
            "60000/60000 [==============================] - 4s 72us/step - loss: 0.1647 - val_loss: 0.1610\n",
            "Epoch 12/50\n",
            "60000/60000 [==============================] - 4s 73us/step - loss: 0.1605 - val_loss: 0.1570\n",
            "Epoch 13/50\n",
            "60000/60000 [==============================] - 4s 72us/step - loss: 0.1567 - val_loss: 0.1534\n",
            "Epoch 14/50\n",
            "60000/60000 [==============================] - 4s 74us/step - loss: 0.1532 - val_loss: 0.1500\n",
            "Epoch 15/50\n",
            "60000/60000 [==============================] - 4s 74us/step - loss: 0.1499 - val_loss: 0.1468\n",
            "Epoch 16/50\n",
            "60000/60000 [==============================] - 4s 71us/step - loss: 0.1469 - val_loss: 0.1440\n",
            "Epoch 17/50\n",
            "60000/60000 [==============================] - 4s 72us/step - loss: 0.1441 - val_loss: 0.1411\n",
            "Epoch 18/50\n",
            "60000/60000 [==============================] - 4s 72us/step - loss: 0.1414 - val_loss: 0.1386\n",
            "Epoch 19/50\n",
            "60000/60000 [==============================] - 4s 73us/step - loss: 0.1390 - val_loss: 0.1363\n",
            "Epoch 20/50\n",
            "60000/60000 [==============================] - 4s 72us/step - loss: 0.1367 - val_loss: 0.1341\n",
            "Epoch 21/50\n",
            "60000/60000 [==============================] - 4s 75us/step - loss: 0.1345 - val_loss: 0.1318\n",
            "Epoch 22/50\n",
            "60000/60000 [==============================] - 5s 75us/step - loss: 0.1324 - val_loss: 0.1298\n",
            "Epoch 23/50\n",
            "60000/60000 [==============================] - 5s 78us/step - loss: 0.1304 - val_loss: 0.1279\n",
            "Epoch 24/50\n",
            "60000/60000 [==============================] - 5s 76us/step - loss: 0.1285 - val_loss: 0.1261\n",
            "Epoch 25/50\n",
            "60000/60000 [==============================] - 4s 73us/step - loss: 0.1266 - val_loss: 0.1242\n",
            "Epoch 26/50\n",
            "60000/60000 [==============================] - 4s 74us/step - loss: 0.1249 - val_loss: 0.1225\n",
            "Epoch 27/50\n",
            "60000/60000 [==============================] - 4s 73us/step - loss: 0.1232 - val_loss: 0.1208\n",
            "Epoch 28/50\n",
            "60000/60000 [==============================] - 4s 74us/step - loss: 0.1216 - val_loss: 0.1192\n",
            "Epoch 29/50\n",
            "60000/60000 [==============================] - 4s 73us/step - loss: 0.1201 - val_loss: 0.1177\n",
            "Epoch 30/50\n",
            "60000/60000 [==============================] - 4s 73us/step - loss: 0.1186 - val_loss: 0.1163\n",
            "Epoch 31/50\n",
            "60000/60000 [==============================] - 4s 73us/step - loss: 0.1173 - val_loss: 0.1150\n",
            "Epoch 32/50\n",
            "60000/60000 [==============================] - 4s 73us/step - loss: 0.1160 - val_loss: 0.1137\n",
            "Epoch 33/50\n",
            "60000/60000 [==============================] - 4s 72us/step - loss: 0.1148 - val_loss: 0.1126\n",
            "Epoch 34/50\n",
            "60000/60000 [==============================] - 4s 72us/step - loss: 0.1137 - val_loss: 0.1115\n",
            "Epoch 35/50\n",
            "60000/60000 [==============================] - 4s 72us/step - loss: 0.1126 - val_loss: 0.1105\n",
            "Epoch 36/50\n",
            "60000/60000 [==============================] - 4s 74us/step - loss: 0.1117 - val_loss: 0.1096\n",
            "Epoch 37/50\n",
            "60000/60000 [==============================] - 4s 73us/step - loss: 0.1108 - val_loss: 0.1088\n",
            "Epoch 38/50\n",
            "60000/60000 [==============================] - 4s 74us/step - loss: 0.1100 - val_loss: 0.1080\n",
            "Epoch 39/50\n",
            "60000/60000 [==============================] - 4s 73us/step - loss: 0.1093 - val_loss: 0.1072\n",
            "Epoch 40/50\n",
            "60000/60000 [==============================] - 4s 73us/step - loss: 0.1086 - val_loss: 0.1066\n",
            "Epoch 41/50\n",
            "60000/60000 [==============================] - 4s 74us/step - loss: 0.1080 - val_loss: 0.1060\n",
            "Epoch 42/50\n",
            "60000/60000 [==============================] - 4s 73us/step - loss: 0.1074 - val_loss: 0.1055\n",
            "Epoch 43/50\n",
            "60000/60000 [==============================] - 4s 72us/step - loss: 0.1069 - val_loss: 0.1049\n",
            "Epoch 44/50\n",
            "60000/60000 [==============================] - 4s 72us/step - loss: 0.1064 - val_loss: 0.1045\n",
            "Epoch 45/50\n",
            "60000/60000 [==============================] - 4s 72us/step - loss: 0.1060 - val_loss: 0.1040\n",
            "Epoch 46/50\n",
            "60000/60000 [==============================] - 4s 71us/step - loss: 0.1055 - val_loss: 0.1037\n",
            "Epoch 47/50\n",
            "60000/60000 [==============================] - 4s 73us/step - loss: 0.1052 - val_loss: 0.1033\n",
            "Epoch 48/50\n",
            "60000/60000 [==============================] - 4s 71us/step - loss: 0.1048 - val_loss: 0.1030\n",
            "Epoch 49/50\n",
            "60000/60000 [==============================] - 4s 70us/step - loss: 0.1045 - val_loss: 0.1027\n",
            "Epoch 50/50\n",
            "60000/60000 [==============================] - 4s 72us/step - loss: 0.1042 - val_loss: 0.1024\n"
          ],
          "name": "stdout"
        },
        {
          "output_type": "execute_result",
          "data": {
            "text/plain": [
              "<keras.callbacks.History at 0x7f7774922b38>"
            ]
          },
          "metadata": {
            "tags": []
          },
          "execution_count": 21
        }
      ]
    },
    {
      "metadata": {
        "id": "WkHOQRu2Mq_G",
        "colab_type": "code",
        "colab": {}
      },
      "cell_type": "code",
      "source": [
        "# encode and decode some digits\n",
        "# note that we take them from the *test* set\n",
        "encoded_imgs = encoder.predict(x_test)\n",
        "decoded_imgs = decoder.predict(encoded_imgs)"
      ],
      "execution_count": 0,
      "outputs": []
    },
    {
      "metadata": {
        "id": "opIKa2ZsMio4",
        "colab_type": "code",
        "outputId": "05f129b1-dbc9-4f24-ffc9-bd3670499e1a",
        "colab": {
          "base_uri": "https://localhost:8080/",
          "height": 244
        }
      },
      "cell_type": "code",
      "source": [
        "# use Matplotlib (don't ask)\n",
        "import matplotlib.pyplot as plt\n",
        "\n",
        "n = 10  # how many digits we will display\n",
        "plt.figure(figsize=(20, 4))\n",
        "for i in range(n):\n",
        "    # display original\n",
        "    ax = plt.subplot(2, n, i + 1)\n",
        "    plt.imshow(x_test[i].reshape(28, 28))\n",
        "    plt.gray()\n",
        "    ax.get_xaxis().set_visible(False)\n",
        "    ax.get_yaxis().set_visible(False)\n",
        "\n",
        "    # display reconstruction\n",
        "    ax = plt.subplot(2, n, i + 1 + n)\n",
        "    plt.imshow(decoded_imgs[i].reshape(28, 28))\n",
        "    plt.gray()\n",
        "    ax.get_xaxis().set_visible(False)\n",
        "    ax.get_yaxis().set_visible(False)\n",
        "plt.show()"
      ],
      "execution_count": 0,
      "outputs": [
        {
          "output_type": "display_data",
          "data": {
            "image/png": "[encoded data removed]",
            "text/plain": [
              "<Figure size 1440x288 with 20 Axes>"
            ]
          },
          "metadata": {
            "tags": []
          }
        }
      ]
    },
    {
      "metadata": {
        "id": "6G3td7f-YNwG",
        "colab_type": "text"
      },
      "cell_type": "markdown",
      "source": [
        "# SPARSE AUTOENCODER"
      ]
    },
    {
      "metadata": {
        "id": "MJGHCiUukXI6",
        "colab_type": "code",
        "colab": {
          "base_uri": "https://localhost:8080/",
          "height": 51
        },
        "outputId": "a12e2c2c-32a9-436a-de7a-d1569d6c09be"
      },
      "cell_type": "code",
      "source": [
        "(x_train, y_train), (x_test, y_test) = mnist.load_data()\n",
        "\n",
        "x_train = x_train.astype('float32') / 255.0\n",
        "x_test = x_test.astype('float32') / 255.0\n",
        "x_train = x_train.reshape((len(x_train), np.prod(x_train.shape[1:])))\n",
        "x_test = x_test.reshape((len(x_test), np.prod(x_test.shape[1:])))\n",
        "\n",
        "print(x_train.shape)\n",
        "print(x_test.shape)"
      ],
      "execution_count": 15,
      "outputs": [
        {
          "output_type": "stream",
          "text": [
            "(60000, 784)\n",
            "(10000, 784)\n"
          ],
          "name": "stdout"
        }
      ]
    },
    {
      "metadata": {
        "id": "Hk5MUqWDiPkO",
        "colab_type": "code",
        "colab": {
          "base_uri": "https://localhost:8080/",
          "height": 697
        },
        "outputId": "8e0c8d13-05eb-46b4-889b-9c98ac17fa9d"
      },
      "cell_type": "code",
      "source": [
        "from keras.regularizers import l1\n",
        "input_size = 784\n",
        "code_size = 32\n",
        "\n",
        "input_img = Input(shape=(input_size,))\n",
        "code = Dense(code_size, activation='relu', activity_regularizer=l1(10e-6))(input_img)\n",
        "output_img = Dense(input_size, activation='sigmoid')(code)\n",
        "\n",
        "autoencoder_regularized = Model(input_img, output_img)\n",
        "autoencoder_regularized.compile(optimizer='adam', loss='binary_crossentropy')\n",
        "history_regularized = autoencoder_regularized.fit(x_train, x_train, epochs=20)\n",
        "\n",
        "encoded_regularized = Model(input_img, code)"
      ],
      "execution_count": 17,
      "outputs": [
        {
          "output_type": "stream",
          "text": [
            "Epoch 1/20\n",
            "60000/60000 [==============================] - 15s 247us/step - loss: 0.1835\n",
            "Epoch 2/20\n",
            "60000/60000 [==============================] - 15s 243us/step - loss: 0.1292\n",
            "Epoch 3/20\n",
            "60000/60000 [==============================] - 15s 242us/step - loss: 0.1190\n",
            "Epoch 4/20\n",
            "60000/60000 [==============================] - 14s 231us/step - loss: 0.1150\n",
            "Epoch 5/20\n",
            "60000/60000 [==============================] - 14s 234us/step - loss: 0.1125\n",
            "Epoch 6/20\n",
            "60000/60000 [==============================] - 14s 242us/step - loss: 0.1108\n",
            "Epoch 7/20\n",
            "60000/60000 [==============================] - 14s 229us/step - loss: 0.1095\n",
            "Epoch 8/20\n",
            "60000/60000 [==============================] - 15s 253us/step - loss: 0.1085\n",
            "Epoch 9/20\n",
            "60000/60000 [==============================] - 14s 231us/step - loss: 0.1076\n",
            "Epoch 10/20\n",
            "60000/60000 [==============================] - 15s 244us/step - loss: 0.1070\n",
            "Epoch 11/20\n",
            "60000/60000 [==============================] - 15s 249us/step - loss: 0.1064\n",
            "Epoch 12/20\n",
            "60000/60000 [==============================] - 14s 236us/step - loss: 0.1059\n",
            "Epoch 13/20\n",
            "60000/60000 [==============================] - 14s 237us/step - loss: 0.1054\n",
            "Epoch 14/20\n",
            "60000/60000 [==============================] - 15s 243us/step - loss: 0.1051\n",
            "Epoch 15/20\n",
            "60000/60000 [==============================] - 14s 241us/step - loss: 0.1047\n",
            "Epoch 16/20\n",
            "60000/60000 [==============================] - 15s 242us/step - loss: 0.1044\n",
            "Epoch 17/20\n",
            "60000/60000 [==============================] - 14s 235us/step - loss: 0.1041\n",
            "Epoch 18/20\n",
            "60000/60000 [==============================] - 14s 239us/step - loss: 0.1038\n",
            "Epoch 19/20\n",
            "60000/60000 [==============================] - 14s 231us/step - loss: 0.1036\n",
            "Epoch 20/20\n",
            "60000/60000 [==============================] - 14s 241us/step - loss: 0.1034\n"
          ],
          "name": "stdout"
        }
      ]
    },
    {
      "metadata": {
        "id": "yBKmhyyikr0r",
        "colab_type": "code",
        "colab": {}
      },
      "cell_type": "code",
      "source": [
        "def plot_autoencoder_outputs(autoencoder, n, dims):\n",
        "    decoded_imgs = autoencoder.predict(x_test)\n",
        "\n",
        "    # number of example digits to show\n",
        "    n = 5\n",
        "    plt.figure(figsize=(10, 4.5))\n",
        "    for i in range(n):\n",
        "        # plot original image\n",
        "        ax = plt.subplot(2, n, i + 1)\n",
        "        plt.imshow(x_test[i].reshape(*dims))\n",
        "        plt.gray()\n",
        "        ax.get_xaxis().set_visible(False)\n",
        "        ax.get_yaxis().set_visible(False)\n",
        "        if i == n/2:\n",
        "            ax.set_title('Original Images')\n",
        "\n",
        "        # plot reconstruction \n",
        "        ax = plt.subplot(2, n, i + 1 + n)\n",
        "        plt.imshow(decoded_imgs[i].reshape(*dims))\n",
        "        plt.gray()\n",
        "        ax.get_xaxis().set_visible(False)\n",
        "        ax.get_yaxis().set_visible(False)\n",
        "        if i == n/2:\n",
        "            ax.set_title('Reconstructed Images')\n",
        "    plt.show()\n"
      ],
      "execution_count": 0,
      "outputs": []
    },
    {
      "metadata": {
        "id": "k01y1jQeQPas",
        "colab_type": "code",
        "outputId": "be92f08d-5e93-4627-cf48-7200bf1f064c",
        "colab": {
          "base_uri": "https://localhost:8080/",
          "height": 261
        }
      },
      "cell_type": "code",
      "source": [
        "plot_autoencoder_outputs(autoencoder_regularized, 5, (28, 28))"
      ],
      "execution_count": 19,
      "outputs": [
        {
          "output_type": "display_data",
          "data": {
            "image/png": "[encoded data removed]",
            "text/plain": [
              "<Figure size 720x324 with 10 Axes>"
            ]
          },
          "metadata": {
            "tags": []
          }
        }
      ]
    }
  ]
}