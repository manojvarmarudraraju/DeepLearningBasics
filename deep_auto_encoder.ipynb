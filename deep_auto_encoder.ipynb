{
  "cells": [
    {
      "metadata": {
        "id": "kNQSuiScash4",
        "colab_type": "code",
        "colab": {},
        "trusted": true
      },
      "cell_type": "code",
      "source": "from keras.datasets import mnist\nfrom keras.layers import Input, Dense\nfrom keras.models import Model",
      "execution_count": 1,
      "outputs": [
        {
          "output_type": "stream",
          "text": "/home/nbuser/anaconda3_420/lib/python3.5/site-packages/h5py/__init__.py:36: FutureWarning: Conversion of the second argument of issubdtype from `float` to `np.floating` is deprecated. In future, it will be treated as `np.float64 == np.dtype(float).type`.\n  from ._conv import register_converters as _register_converters\nUsing TensorFlow backend.\n",
          "name": "stderr"
        }
      ]
    },
    {
      "metadata": {
        "id": "LVwNL6BFayAC",
        "colab_type": "code",
        "colab": {},
        "trusted": true
      },
      "cell_type": "code",
      "source": "import numpy as np\nimport pandas as pd\nimport matplotlib.pyplot as plt\n%matplotlib inline",
      "execution_count": 2,
      "outputs": []
    },
    {
      "metadata": {
        "id": "-zIjjlWHa2L5",
        "colab_type": "code",
        "colab": {},
        "trusted": true
      },
      "cell_type": "code",
      "source": "(X_train, _), (X_test, _) = mnist.load_data()",
      "execution_count": 3,
      "outputs": [
        {
          "output_type": "stream",
          "text": "Downloading data from https://s3.amazonaws.com/img-datasets/mnist.npz\n11304960/11490434 [============================>.] - ETA: 0s",
          "name": "stdout"
        }
      ]
    },
    {
      "metadata": {
        "id": "Y-Cdl5rja23s",
        "colab_type": "code",
        "colab": {},
        "trusted": true
      },
      "cell_type": "code",
      "source": "X_train = X_train.astype('float32')/255\nX_test = X_test.astype('float32')/255",
      "execution_count": 4,
      "outputs": []
    },
    {
      "metadata": {
        "id": "WD3WTHVna4-b",
        "colab_type": "code",
        "outputId": "09d9e53a-ead8-4114-b815-054d6b91edd8",
        "colab": {
          "base_uri": "https://localhost:8080/",
          "height": 51
        },
        "trusted": true
      },
      "cell_type": "code",
      "source": "X_train = X_train.reshape(len(X_train), np.prod(X_train.shape[1:]))\nX_test = X_test.reshape(len(X_test), np.prod(X_test.shape[1:]))\nprint(X_train.shape)\nprint(X_test.shape)",
      "execution_count": 5,
      "outputs": [
        {
          "output_type": "stream",
          "text": "(60000, 784)\n(10000, 784)\n",
          "name": "stdout"
        }
      ]
    },
    {
      "metadata": {
        "id": "2Y2O2zJXa72j",
        "colab_type": "code",
        "colab": {},
        "trusted": true
      },
      "cell_type": "code",
      "source": "input_img= Input(shape=(784,))",
      "execution_count": 6,
      "outputs": []
    },
    {
      "metadata": {
        "id": "nwsA5CURa9_V",
        "colab_type": "code",
        "outputId": "c06dff90-7772-4bc8-9a9c-e3d632d30dc7",
        "colab": {
          "base_uri": "https://localhost:8080/",
          "height": 88
        },
        "trusted": true
      },
      "cell_type": "code",
      "source": "encoded = Dense(units=128, activation='relu')(input_img)\nencoded = Dense(units=64, activation='relu')(encoded)\nencoded = Dense(units=32, activation='relu')(encoded)\ndecoded = Dense(units=64, activation='relu')(encoded)\ndecoded = Dense(units=128, activation='relu')(decoded)\ndecoded = Dense(units=784, activation='sigmoid')(decoded)",
      "execution_count": 7,
      "outputs": []
    },
    {
      "metadata": {
        "id": "ebMbt7g7bAOt",
        "colab_type": "code",
        "colab": {},
        "trusted": true
      },
      "cell_type": "code",
      "source": "autoencoder=Model(input_img, decoded)",
      "execution_count": 8,
      "outputs": []
    },
    {
      "metadata": {
        "id": "1tz9Z0V2bCbY",
        "colab_type": "code",
        "colab": {},
        "trusted": true
      },
      "cell_type": "code",
      "source": "encoder = Model(input_img, encoded)",
      "execution_count": 9,
      "outputs": []
    },
    {
      "metadata": {
        "id": "VP6gANXEbEeu",
        "colab_type": "code",
        "outputId": "17fcfa91-01dc-4448-f165-952e1704aca4",
        "colab": {
          "base_uri": "https://localhost:8080/",
          "height": 374
        },
        "trusted": true
      },
      "cell_type": "code",
      "source": "autoencoder.summary()",
      "execution_count": 10,
      "outputs": [
        {
          "output_type": "stream",
          "text": "_________________________________________________________________\nLayer (type)                 Output Shape              Param #   \n=================================================================\ninput_1 (InputLayer)         (None, 784)               0         \n_________________________________________________________________\ndense_1 (Dense)              (None, 128)               100480    \n_________________________________________________________________\ndense_2 (Dense)              (None, 64)                8256      \n_________________________________________________________________\ndense_3 (Dense)              (None, 32)                2080      \n_________________________________________________________________\ndense_4 (Dense)              (None, 64)                2112      \n_________________________________________________________________\ndense_5 (Dense)              (None, 128)               8320      \n_________________________________________________________________\ndense_6 (Dense)              (None, 784)               101136    \n=================================================================\nTotal params: 222,384\nTrainable params: 222,384\nNon-trainable params: 0\n_________________________________________________________________\n",
          "name": "stdout"
        }
      ]
    },
    {
      "metadata": {
        "id": "rJQ7LmP-bGNn",
        "colab_type": "code",
        "outputId": "28fc7982-409f-4b75-f3fd-d2b6cc9f4ba5",
        "colab": {
          "base_uri": "https://localhost:8080/",
          "height": 272
        },
        "trusted": true
      },
      "cell_type": "code",
      "source": "encoder.summary()",
      "execution_count": null,
      "outputs": []
    },
    {
      "metadata": {
        "id": "_tIMUPQNbIQO",
        "colab_type": "code",
        "colab": {},
        "trusted": false
      },
      "cell_type": "code",
      "source": "autoencoder.compile(optimizer='adam', loss='binary_crossentropy', metrics=['accuracy'])",
      "execution_count": 0,
      "outputs": []
    },
    {
      "metadata": {
        "id": "3rAbBOambKSh",
        "colab_type": "code",
        "outputId": "61f5fe40-d041-4059-ee04-6893747e776f",
        "colab": {
          "base_uri": "https://localhost:8080/",
          "height": 1822
        },
        "trusted": false
      },
      "cell_type": "code",
      "source": "autoencoder.fit(X_train, X_train,\n                epochs=50,\n                batch_size=256,\n                shuffle=True,\n                validation_data=(X_test, X_test))",
      "execution_count": 0,
      "outputs": [
        {
          "output_type": "stream",
          "text": "WARNING:tensorflow:From /usr/local/lib/python3.6/dist-packages/tensorflow/python/ops/math_ops.py:3066: to_int32 (from tensorflow.python.ops.math_ops) is deprecated and will be removed in a future version.\nInstructions for updating:\nUse tf.cast instead.\nTrain on 60000 samples, validate on 10000 samples\nEpoch 1/50\n60000/60000 [==============================] - 6s 108us/step - loss: 0.2495 - acc: 0.7839 - val_loss: 0.1668 - val_acc: 0.7990\nEpoch 2/50\n60000/60000 [==============================] - 6s 103us/step - loss: 0.1506 - acc: 0.8048 - val_loss: 0.1371 - val_acc: 0.8067\nEpoch 3/50\n60000/60000 [==============================] - 6s 106us/step - loss: 0.1316 - acc: 0.8086 - val_loss: 0.1251 - val_acc: 0.8100\nEpoch 4/50\n60000/60000 [==============================] - 6s 106us/step - loss: 0.1217 - acc: 0.8102 - val_loss: 0.1169 - val_acc: 0.8102\nEpoch 5/50\n60000/60000 [==============================] - 6s 105us/step - loss: 0.1157 - acc: 0.8111 - val_loss: 0.1118 - val_acc: 0.8109\nEpoch 6/50\n60000/60000 [==============================] - 6s 106us/step - loss: 0.1115 - acc: 0.8117 - val_loss: 0.1077 - val_acc: 0.8112\nEpoch 7/50\n60000/60000 [==============================] - 6s 106us/step - loss: 0.1077 - acc: 0.8123 - val_loss: 0.1050 - val_acc: 0.8118\nEpoch 8/50\n60000/60000 [==============================] - 7s 109us/step - loss: 0.1050 - acc: 0.8126 - val_loss: 0.1030 - val_acc: 0.8117\nEpoch 9/50\n60000/60000 [==============================] - 6s 107us/step - loss: 0.1031 - acc: 0.8128 - val_loss: 0.1010 - val_acc: 0.8122\nEpoch 10/50\n60000/60000 [==============================] - 6s 104us/step - loss: 0.1015 - acc: 0.8130 - val_loss: 0.0993 - val_acc: 0.8123\nEpoch 11/50\n60000/60000 [==============================] - 6s 104us/step - loss: 0.0999 - acc: 0.8132 - val_loss: 0.0995 - val_acc: 0.8117\nEpoch 12/50\n60000/60000 [==============================] - 6s 104us/step - loss: 0.0989 - acc: 0.8133 - val_loss: 0.0986 - val_acc: 0.8128\nEpoch 13/50\n60000/60000 [==============================] - 6s 104us/step - loss: 0.0979 - acc: 0.8134 - val_loss: 0.0964 - val_acc: 0.8125\nEpoch 14/50\n60000/60000 [==============================] - 6s 104us/step - loss: 0.0970 - acc: 0.8135 - val_loss: 0.0955 - val_acc: 0.8126\nEpoch 15/50\n60000/60000 [==============================] - 6s 105us/step - loss: 0.0961 - acc: 0.8135 - val_loss: 0.0955 - val_acc: 0.8126\nEpoch 16/50\n60000/60000 [==============================] - 6s 104us/step - loss: 0.0953 - acc: 0.8136 - val_loss: 0.0940 - val_acc: 0.8127\nEpoch 17/50\n60000/60000 [==============================] - 7s 111us/step - loss: 0.0946 - acc: 0.8137 - val_loss: 0.0936 - val_acc: 0.8126\nEpoch 18/50\n60000/60000 [==============================] - 7s 113us/step - loss: 0.0941 - acc: 0.8137 - val_loss: 0.0929 - val_acc: 0.8130\nEpoch 19/50\n60000/60000 [==============================] - 6s 103us/step - loss: 0.0934 - acc: 0.8138 - val_loss: 0.0923 - val_acc: 0.8128\nEpoch 20/50\n60000/60000 [==============================] - 6s 105us/step - loss: 0.0929 - acc: 0.8139 - val_loss: 0.0924 - val_acc: 0.8127\nEpoch 21/50\n60000/60000 [==============================] - 6s 104us/step - loss: 0.0924 - acc: 0.8139 - val_loss: 0.0913 - val_acc: 0.8129\nEpoch 22/50\n60000/60000 [==============================] - 6s 105us/step - loss: 0.0918 - acc: 0.8139 - val_loss: 0.0908 - val_acc: 0.8131\nEpoch 23/50\n60000/60000 [==============================] - 6s 104us/step - loss: 0.0913 - acc: 0.8140 - val_loss: 0.0906 - val_acc: 0.8129\nEpoch 24/50\n60000/60000 [==============================] - 6s 105us/step - loss: 0.0909 - acc: 0.8140 - val_loss: 0.0900 - val_acc: 0.8130\nEpoch 25/50\n60000/60000 [==============================] - 6s 105us/step - loss: 0.0905 - acc: 0.8141 - val_loss: 0.0896 - val_acc: 0.8131\nEpoch 26/50\n60000/60000 [==============================] - 6s 104us/step - loss: 0.0900 - acc: 0.8141 - val_loss: 0.0893 - val_acc: 0.8132\nEpoch 27/50\n60000/60000 [==============================] - 6s 104us/step - loss: 0.0896 - acc: 0.8142 - val_loss: 0.0893 - val_acc: 0.8130\nEpoch 28/50\n60000/60000 [==============================] - 6s 106us/step - loss: 0.0892 - acc: 0.8142 - val_loss: 0.0884 - val_acc: 0.8133\nEpoch 29/50\n60000/60000 [==============================] - 6s 105us/step - loss: 0.0889 - acc: 0.8142 - val_loss: 0.0881 - val_acc: 0.8132\nEpoch 30/50\n60000/60000 [==============================] - 6s 105us/step - loss: 0.0885 - acc: 0.8143 - val_loss: 0.0878 - val_acc: 0.8134\nEpoch 31/50\n60000/60000 [==============================] - 6s 103us/step - loss: 0.0882 - acc: 0.8143 - val_loss: 0.0877 - val_acc: 0.8134\nEpoch 32/50\n60000/60000 [==============================] - 6s 106us/step - loss: 0.0879 - acc: 0.8143 - val_loss: 0.0871 - val_acc: 0.8134\nEpoch 33/50\n60000/60000 [==============================] - 6s 106us/step - loss: 0.0876 - acc: 0.8143 - val_loss: 0.0872 - val_acc: 0.8135\nEpoch 34/50\n60000/60000 [==============================] - 6s 105us/step - loss: 0.0872 - acc: 0.8144 - val_loss: 0.0866 - val_acc: 0.8135\nEpoch 35/50\n60000/60000 [==============================] - 6s 104us/step - loss: 0.0869 - acc: 0.8144 - val_loss: 0.0860 - val_acc: 0.8135\nEpoch 36/50\n60000/60000 [==============================] - 6s 106us/step - loss: 0.0867 - acc: 0.8144 - val_loss: 0.0862 - val_acc: 0.8134\nEpoch 37/50\n60000/60000 [==============================] - 6s 105us/step - loss: 0.0866 - acc: 0.8144 - val_loss: 0.0862 - val_acc: 0.8133\nEpoch 38/50\n60000/60000 [==============================] - 6s 101us/step - loss: 0.0863 - acc: 0.8144 - val_loss: 0.0856 - val_acc: 0.8135\nEpoch 39/50\n60000/60000 [==============================] - 6s 104us/step - loss: 0.0861 - acc: 0.8145 - val_loss: 0.0856 - val_acc: 0.8134\nEpoch 40/50\n60000/60000 [==============================] - 6s 103us/step - loss: 0.0859 - acc: 0.8145 - val_loss: 0.0856 - val_acc: 0.8134\nEpoch 41/50\n60000/60000 [==============================] - 6s 102us/step - loss: 0.0858 - acc: 0.8145 - val_loss: 0.0854 - val_acc: 0.8136\nEpoch 42/50\n60000/60000 [==============================] - 6s 103us/step - loss: 0.0856 - acc: 0.8145 - val_loss: 0.0850 - val_acc: 0.8135\nEpoch 43/50\n60000/60000 [==============================] - 6s 103us/step - loss: 0.0854 - acc: 0.8145 - val_loss: 0.0848 - val_acc: 0.8135\nEpoch 44/50\n60000/60000 [==============================] - 6s 103us/step - loss: 0.0853 - acc: 0.8145 - val_loss: 0.0852 - val_acc: 0.8135\nEpoch 45/50\n60000/60000 [==============================] - 6s 102us/step - loss: 0.0852 - acc: 0.8145 - val_loss: 0.0852 - val_acc: 0.8137\nEpoch 46/50\n60000/60000 [==============================] - 6s 102us/step - loss: 0.0850 - acc: 0.8145 - val_loss: 0.0849 - val_acc: 0.8137\nEpoch 47/50\n60000/60000 [==============================] - 6s 102us/step - loss: 0.0849 - acc: 0.8146 - val_loss: 0.0844 - val_acc: 0.8135\nEpoch 48/50\n60000/60000 [==============================] - 6s 102us/step - loss: 0.0847 - acc: 0.8146 - val_loss: 0.0841 - val_acc: 0.8136\nEpoch 49/50\n60000/60000 [==============================] - 6s 102us/step - loss: 0.0846 - acc: 0.8146 - val_loss: 0.0845 - val_acc: 0.8135\nEpoch 50/50\n60000/60000 [==============================] - 6s 105us/step - loss: 0.0845 - acc: 0.8146 - val_loss: 0.0841 - val_acc: 0.8136\n",
          "name": "stdout"
        },
        {
          "output_type": "execute_result",
          "data": {
            "text/plain": "<keras.callbacks.History at 0x7f08eaa0e160>"
          },
          "metadata": {
            "tags": []
          },
          "execution_count": 13
        }
      ]
    },
    {
      "metadata": {
        "id": "TYzVkp3WbMbf",
        "colab_type": "code",
        "colab": {},
        "trusted": false
      },
      "cell_type": "code",
      "source": "encoded_imgs = encoder.predict(X_test)\npredicted = autoencoder.predict(X_test)",
      "execution_count": 0,
      "outputs": []
    },
    {
      "metadata": {
        "id": "y_btKd2obSMt",
        "colab_type": "code",
        "outputId": "2818c688-2101-4682-b625-8445cc81414d",
        "colab": {
          "base_uri": "https://localhost:8080/",
          "height": 248
        },
        "trusted": false
      },
      "cell_type": "code",
      "source": "plt.figure(figsize=(40, 4))\nfor i in range(10):\n    # display original images\n    ax = plt.subplot(3, 20, i + 1)\n    plt.imshow(X_test[i].reshape(28, 28))\n    plt.gray()\n    ax.get_xaxis().set_visible(False)\n    ax.get_yaxis().set_visible(False)\n    \n    # display encoded images\n    ax = plt.subplot(3, 20, i + 1 + 20)\n    plt.imshow(encoded_imgs[i].reshape(8,4))\n    plt.gray()\n    ax.get_xaxis().set_visible(False)\n    ax.get_yaxis().set_visible(False)\n    # display reconstructed images\n    ax = plt.subplot(3, 20, 2*20 +i+ 1)\n    plt.imshow(predicted[i].reshape(28, 28))\n    plt.gray()\n    ax.get_xaxis().set_visible(False)\n    ax.get_yaxis().set_visible(False)\n  \n    \nplt.show()",
      "execution_count": 0,
      "outputs": [
        {
          "output_type": "display_data",
          "data": {
            "image/png": "[encoded data removed]",
            "text/plain": "<Figure size 2880x288 with 30 Axes>"
          },
          "metadata": {
            "tags": []
          }
        }
      ]
    },
    {
      "metadata": {
        "id": "59PJ-PbxbYE7",
        "colab_type": "code",
        "colab": {},
        "trusted": false
      },
      "cell_type": "code",
      "source": "",
      "execution_count": 0,
      "outputs": []
    }
  ],
  "metadata": {
    "colab": {
      "name": "deep_auto_encoder.ipynb",
      "version": "0.3.2",
      "provenance": []
    },
    "kernelspec": {
      "name": "python3",
      "display_name": "Python 3",
      "language": "python"
    },
    "language_info": {
      "mimetype": "text/x-python",
      "nbconvert_exporter": "python",
      "name": "python",
      "file_extension": ".py",
      "version": "3.5.4",
      "pygments_lexer": "ipython3",
      "codemirror_mode": {
        "version": 3,
        "name": "ipython"
      }
    }
  },
  "nbformat": 4,
  "nbformat_minor": 1
}